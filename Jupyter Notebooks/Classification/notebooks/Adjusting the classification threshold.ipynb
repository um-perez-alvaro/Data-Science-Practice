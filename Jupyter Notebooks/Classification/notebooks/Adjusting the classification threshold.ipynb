{
 "cells": [
  {
   "cell_type": "code",
   "execution_count": 1,
   "metadata": {},
   "outputs": [],
   "source": [
    "import pandas as pd\n",
    "import numpy as np\n",
    "import matplotlib.pyplot as plt"
   ]
  },
  {
   "cell_type": "markdown",
   "metadata": {},
   "source": [
    "# Changing the classification threshold"
   ]
  },
  {
   "cell_type": "markdown",
   "metadata": {},
   "source": [
    "In this notebook, we'll look at two new evaluation metrics: average precision and AUC score. They're a bit more advanced than the ones we've seen so far."
   ]
  },
  {
   "cell_type": "markdown",
   "metadata": {},
   "source": [
    "Let's start by importing a few functions we'll need."
   ]
  },
  {
   "cell_type": "code",
   "execution_count": 2,
   "metadata": {},
   "outputs": [],
   "source": [
    "from sklearn.metrics import accuracy_score, confusion_matrix, recall_score, precision_score"
   ]
  },
  {
   "cell_type": "code",
   "execution_count": 3,
   "metadata": {},
   "outputs": [],
   "source": [
    "from sklearn.linear_model import LogisticRegression\n",
    "from sklearn.model_selection import train_test_split"
   ]
  },
  {
   "cell_type": "markdown",
   "metadata": {},
   "source": [
    "- [Classification thresholds](#1.-Classification-thresholds)\n",
    "- [Precision/Recall Trade-off and Average Precision](#2.-Precision/Recall-Trade-off)\n",
    "- [ROC curve and AUC score](#3.-ROC-curve-and-AUC-score)"
   ]
  },
  {
   "cell_type": "markdown",
   "metadata": {},
   "source": [
    "## 1. Classification thresholds"
   ]
  },
  {
   "cell_type": "markdown",
   "metadata": {},
   "source": [
    "Let's load the Pima Indian dataset we've used before."
   ]
  },
  {
   "cell_type": "code",
   "execution_count": 4,
   "metadata": {},
   "outputs": [
    {
     "data": {
      "text/html": [
       "<div>\n",
       "<style scoped>\n",
       "    .dataframe tbody tr th:only-of-type {\n",
       "        vertical-align: middle;\n",
       "    }\n",
       "\n",
       "    .dataframe tbody tr th {\n",
       "        vertical-align: top;\n",
       "    }\n",
       "\n",
       "    .dataframe thead th {\n",
       "        text-align: right;\n",
       "    }\n",
       "</style>\n",
       "<table border=\"1\" class=\"dataframe\">\n",
       "  <thead>\n",
       "    <tr style=\"text-align: right;\">\n",
       "      <th></th>\n",
       "      <th>pregnant</th>\n",
       "      <th>glucose</th>\n",
       "      <th>bp</th>\n",
       "      <th>skin</th>\n",
       "      <th>insulin</th>\n",
       "      <th>bmi</th>\n",
       "      <th>pedigree</th>\n",
       "      <th>age</th>\n",
       "      <th>label</th>\n",
       "    </tr>\n",
       "  </thead>\n",
       "  <tbody>\n",
       "    <tr>\n",
       "      <th>0</th>\n",
       "      <td>6</td>\n",
       "      <td>148</td>\n",
       "      <td>72</td>\n",
       "      <td>35</td>\n",
       "      <td>0</td>\n",
       "      <td>33.6</td>\n",
       "      <td>0.627</td>\n",
       "      <td>50</td>\n",
       "      <td>1</td>\n",
       "    </tr>\n",
       "    <tr>\n",
       "      <th>1</th>\n",
       "      <td>1</td>\n",
       "      <td>85</td>\n",
       "      <td>66</td>\n",
       "      <td>29</td>\n",
       "      <td>0</td>\n",
       "      <td>26.6</td>\n",
       "      <td>0.351</td>\n",
       "      <td>31</td>\n",
       "      <td>0</td>\n",
       "    </tr>\n",
       "    <tr>\n",
       "      <th>2</th>\n",
       "      <td>8</td>\n",
       "      <td>183</td>\n",
       "      <td>64</td>\n",
       "      <td>0</td>\n",
       "      <td>0</td>\n",
       "      <td>23.3</td>\n",
       "      <td>0.672</td>\n",
       "      <td>32</td>\n",
       "      <td>1</td>\n",
       "    </tr>\n",
       "    <tr>\n",
       "      <th>3</th>\n",
       "      <td>1</td>\n",
       "      <td>89</td>\n",
       "      <td>66</td>\n",
       "      <td>23</td>\n",
       "      <td>94</td>\n",
       "      <td>28.1</td>\n",
       "      <td>0.167</td>\n",
       "      <td>21</td>\n",
       "      <td>0</td>\n",
       "    </tr>\n",
       "    <tr>\n",
       "      <th>4</th>\n",
       "      <td>0</td>\n",
       "      <td>137</td>\n",
       "      <td>40</td>\n",
       "      <td>35</td>\n",
       "      <td>168</td>\n",
       "      <td>43.1</td>\n",
       "      <td>2.288</td>\n",
       "      <td>33</td>\n",
       "      <td>1</td>\n",
       "    </tr>\n",
       "    <tr>\n",
       "      <th>...</th>\n",
       "      <td>...</td>\n",
       "      <td>...</td>\n",
       "      <td>...</td>\n",
       "      <td>...</td>\n",
       "      <td>...</td>\n",
       "      <td>...</td>\n",
       "      <td>...</td>\n",
       "      <td>...</td>\n",
       "      <td>...</td>\n",
       "    </tr>\n",
       "    <tr>\n",
       "      <th>763</th>\n",
       "      <td>10</td>\n",
       "      <td>101</td>\n",
       "      <td>76</td>\n",
       "      <td>48</td>\n",
       "      <td>180</td>\n",
       "      <td>32.9</td>\n",
       "      <td>0.171</td>\n",
       "      <td>63</td>\n",
       "      <td>0</td>\n",
       "    </tr>\n",
       "    <tr>\n",
       "      <th>764</th>\n",
       "      <td>2</td>\n",
       "      <td>122</td>\n",
       "      <td>70</td>\n",
       "      <td>27</td>\n",
       "      <td>0</td>\n",
       "      <td>36.8</td>\n",
       "      <td>0.340</td>\n",
       "      <td>27</td>\n",
       "      <td>0</td>\n",
       "    </tr>\n",
       "    <tr>\n",
       "      <th>765</th>\n",
       "      <td>5</td>\n",
       "      <td>121</td>\n",
       "      <td>72</td>\n",
       "      <td>23</td>\n",
       "      <td>112</td>\n",
       "      <td>26.2</td>\n",
       "      <td>0.245</td>\n",
       "      <td>30</td>\n",
       "      <td>0</td>\n",
       "    </tr>\n",
       "    <tr>\n",
       "      <th>766</th>\n",
       "      <td>1</td>\n",
       "      <td>126</td>\n",
       "      <td>60</td>\n",
       "      <td>0</td>\n",
       "      <td>0</td>\n",
       "      <td>30.1</td>\n",
       "      <td>0.349</td>\n",
       "      <td>47</td>\n",
       "      <td>1</td>\n",
       "    </tr>\n",
       "    <tr>\n",
       "      <th>767</th>\n",
       "      <td>1</td>\n",
       "      <td>93</td>\n",
       "      <td>70</td>\n",
       "      <td>31</td>\n",
       "      <td>0</td>\n",
       "      <td>30.4</td>\n",
       "      <td>0.315</td>\n",
       "      <td>23</td>\n",
       "      <td>0</td>\n",
       "    </tr>\n",
       "  </tbody>\n",
       "</table>\n",
       "<p>768 rows × 9 columns</p>\n",
       "</div>"
      ],
      "text/plain": [
       "     pregnant  glucose  bp  skin  insulin   bmi  pedigree  age  label\n",
       "0           6      148  72    35        0  33.6     0.627   50      1\n",
       "1           1       85  66    29        0  26.6     0.351   31      0\n",
       "2           8      183  64     0        0  23.3     0.672   32      1\n",
       "3           1       89  66    23       94  28.1     0.167   21      0\n",
       "4           0      137  40    35      168  43.1     2.288   33      1\n",
       "..        ...      ...  ..   ...      ...   ...       ...  ...    ...\n",
       "763        10      101  76    48      180  32.9     0.171   63      0\n",
       "764         2      122  70    27        0  36.8     0.340   27      0\n",
       "765         5      121  72    23      112  26.2     0.245   30      0\n",
       "766         1      126  60     0        0  30.1     0.349   47      1\n",
       "767         1       93  70    31        0  30.4     0.315   23      0\n",
       "\n",
       "[768 rows x 9 columns]"
      ]
     },
     "execution_count": 4,
     "metadata": {},
     "output_type": "execute_result"
    }
   ],
   "source": [
    "# load the pima indian dataset\n",
    "path = 'https://raw.githubusercontent.com/um-perez-alvaro/Data-Science-Practice/master/Data/pima.csv'\n",
    "df = pd.read_csv(path)\n",
    "df"
   ]
  },
  {
   "cell_type": "markdown",
   "metadata": {},
   "source": [
    "The goal is to predict whether a person has diabetes based on their health data."
   ]
  },
  {
   "cell_type": "code",
   "execution_count": 5,
   "metadata": {},
   "outputs": [
    {
     "data": {
      "text/html": [
       "<style>#sk-container-id-1 {\n",
       "  /* Definition of color scheme common for light and dark mode */\n",
       "  --sklearn-color-text: black;\n",
       "  --sklearn-color-line: gray;\n",
       "  /* Definition of color scheme for unfitted estimators */\n",
       "  --sklearn-color-unfitted-level-0: #fff5e6;\n",
       "  --sklearn-color-unfitted-level-1: #f6e4d2;\n",
       "  --sklearn-color-unfitted-level-2: #ffe0b3;\n",
       "  --sklearn-color-unfitted-level-3: chocolate;\n",
       "  /* Definition of color scheme for fitted estimators */\n",
       "  --sklearn-color-fitted-level-0: #f0f8ff;\n",
       "  --sklearn-color-fitted-level-1: #d4ebff;\n",
       "  --sklearn-color-fitted-level-2: #b3dbfd;\n",
       "  --sklearn-color-fitted-level-3: cornflowerblue;\n",
       "\n",
       "  /* Specific color for light theme */\n",
       "  --sklearn-color-text-on-default-background: var(--sg-text-color, var(--theme-code-foreground, var(--jp-content-font-color1, black)));\n",
       "  --sklearn-color-background: var(--sg-background-color, var(--theme-background, var(--jp-layout-color0, white)));\n",
       "  --sklearn-color-border-box: var(--sg-text-color, var(--theme-code-foreground, var(--jp-content-font-color1, black)));\n",
       "  --sklearn-color-icon: #696969;\n",
       "\n",
       "  @media (prefers-color-scheme: dark) {\n",
       "    /* Redefinition of color scheme for dark theme */\n",
       "    --sklearn-color-text-on-default-background: var(--sg-text-color, var(--theme-code-foreground, var(--jp-content-font-color1, white)));\n",
       "    --sklearn-color-background: var(--sg-background-color, var(--theme-background, var(--jp-layout-color0, #111)));\n",
       "    --sklearn-color-border-box: var(--sg-text-color, var(--theme-code-foreground, var(--jp-content-font-color1, white)));\n",
       "    --sklearn-color-icon: #878787;\n",
       "  }\n",
       "}\n",
       "\n",
       "#sk-container-id-1 {\n",
       "  color: var(--sklearn-color-text);\n",
       "}\n",
       "\n",
       "#sk-container-id-1 pre {\n",
       "  padding: 0;\n",
       "}\n",
       "\n",
       "#sk-container-id-1 input.sk-hidden--visually {\n",
       "  border: 0;\n",
       "  clip: rect(1px 1px 1px 1px);\n",
       "  clip: rect(1px, 1px, 1px, 1px);\n",
       "  height: 1px;\n",
       "  margin: -1px;\n",
       "  overflow: hidden;\n",
       "  padding: 0;\n",
       "  position: absolute;\n",
       "  width: 1px;\n",
       "}\n",
       "\n",
       "#sk-container-id-1 div.sk-dashed-wrapped {\n",
       "  border: 1px dashed var(--sklearn-color-line);\n",
       "  margin: 0 0.4em 0.5em 0.4em;\n",
       "  box-sizing: border-box;\n",
       "  padding-bottom: 0.4em;\n",
       "  background-color: var(--sklearn-color-background);\n",
       "}\n",
       "\n",
       "#sk-container-id-1 div.sk-container {\n",
       "  /* jupyter's `normalize.less` sets `[hidden] { display: none; }`\n",
       "     but bootstrap.min.css set `[hidden] { display: none !important; }`\n",
       "     so we also need the `!important` here to be able to override the\n",
       "     default hidden behavior on the sphinx rendered scikit-learn.org.\n",
       "     See: https://github.com/scikit-learn/scikit-learn/issues/21755 */\n",
       "  display: inline-block !important;\n",
       "  position: relative;\n",
       "}\n",
       "\n",
       "#sk-container-id-1 div.sk-text-repr-fallback {\n",
       "  display: none;\n",
       "}\n",
       "\n",
       "div.sk-parallel-item,\n",
       "div.sk-serial,\n",
       "div.sk-item {\n",
       "  /* draw centered vertical line to link estimators */\n",
       "  background-image: linear-gradient(var(--sklearn-color-text-on-default-background), var(--sklearn-color-text-on-default-background));\n",
       "  background-size: 2px 100%;\n",
       "  background-repeat: no-repeat;\n",
       "  background-position: center center;\n",
       "}\n",
       "\n",
       "/* Parallel-specific style estimator block */\n",
       "\n",
       "#sk-container-id-1 div.sk-parallel-item::after {\n",
       "  content: \"\";\n",
       "  width: 100%;\n",
       "  border-bottom: 2px solid var(--sklearn-color-text-on-default-background);\n",
       "  flex-grow: 1;\n",
       "}\n",
       "\n",
       "#sk-container-id-1 div.sk-parallel {\n",
       "  display: flex;\n",
       "  align-items: stretch;\n",
       "  justify-content: center;\n",
       "  background-color: var(--sklearn-color-background);\n",
       "  position: relative;\n",
       "}\n",
       "\n",
       "#sk-container-id-1 div.sk-parallel-item {\n",
       "  display: flex;\n",
       "  flex-direction: column;\n",
       "}\n",
       "\n",
       "#sk-container-id-1 div.sk-parallel-item:first-child::after {\n",
       "  align-self: flex-end;\n",
       "  width: 50%;\n",
       "}\n",
       "\n",
       "#sk-container-id-1 div.sk-parallel-item:last-child::after {\n",
       "  align-self: flex-start;\n",
       "  width: 50%;\n",
       "}\n",
       "\n",
       "#sk-container-id-1 div.sk-parallel-item:only-child::after {\n",
       "  width: 0;\n",
       "}\n",
       "\n",
       "/* Serial-specific style estimator block */\n",
       "\n",
       "#sk-container-id-1 div.sk-serial {\n",
       "  display: flex;\n",
       "  flex-direction: column;\n",
       "  align-items: center;\n",
       "  background-color: var(--sklearn-color-background);\n",
       "  padding-right: 1em;\n",
       "  padding-left: 1em;\n",
       "}\n",
       "\n",
       "\n",
       "/* Toggleable style: style used for estimator/Pipeline/ColumnTransformer box that is\n",
       "clickable and can be expanded/collapsed.\n",
       "- Pipeline and ColumnTransformer use this feature and define the default style\n",
       "- Estimators will overwrite some part of the style using the `sk-estimator` class\n",
       "*/\n",
       "\n",
       "/* Pipeline and ColumnTransformer style (default) */\n",
       "\n",
       "#sk-container-id-1 div.sk-toggleable {\n",
       "  /* Default theme specific background. It is overwritten whether we have a\n",
       "  specific estimator or a Pipeline/ColumnTransformer */\n",
       "  background-color: var(--sklearn-color-background);\n",
       "}\n",
       "\n",
       "/* Toggleable label */\n",
       "#sk-container-id-1 label.sk-toggleable__label {\n",
       "  cursor: pointer;\n",
       "  display: block;\n",
       "  width: 100%;\n",
       "  margin-bottom: 0;\n",
       "  padding: 0.5em;\n",
       "  box-sizing: border-box;\n",
       "  text-align: center;\n",
       "}\n",
       "\n",
       "#sk-container-id-1 label.sk-toggleable__label-arrow:before {\n",
       "  /* Arrow on the left of the label */\n",
       "  content: \"▸\";\n",
       "  float: left;\n",
       "  margin-right: 0.25em;\n",
       "  color: var(--sklearn-color-icon);\n",
       "}\n",
       "\n",
       "#sk-container-id-1 label.sk-toggleable__label-arrow:hover:before {\n",
       "  color: var(--sklearn-color-text);\n",
       "}\n",
       "\n",
       "/* Toggleable content - dropdown */\n",
       "\n",
       "#sk-container-id-1 div.sk-toggleable__content {\n",
       "  max-height: 0;\n",
       "  max-width: 0;\n",
       "  overflow: hidden;\n",
       "  text-align: left;\n",
       "  /* unfitted */\n",
       "  background-color: var(--sklearn-color-unfitted-level-0);\n",
       "}\n",
       "\n",
       "#sk-container-id-1 div.sk-toggleable__content.fitted {\n",
       "  /* fitted */\n",
       "  background-color: var(--sklearn-color-fitted-level-0);\n",
       "}\n",
       "\n",
       "#sk-container-id-1 div.sk-toggleable__content pre {\n",
       "  margin: 0.2em;\n",
       "  border-radius: 0.25em;\n",
       "  color: var(--sklearn-color-text);\n",
       "  /* unfitted */\n",
       "  background-color: var(--sklearn-color-unfitted-level-0);\n",
       "}\n",
       "\n",
       "#sk-container-id-1 div.sk-toggleable__content.fitted pre {\n",
       "  /* unfitted */\n",
       "  background-color: var(--sklearn-color-fitted-level-0);\n",
       "}\n",
       "\n",
       "#sk-container-id-1 input.sk-toggleable__control:checked~div.sk-toggleable__content {\n",
       "  /* Expand drop-down */\n",
       "  max-height: 200px;\n",
       "  max-width: 100%;\n",
       "  overflow: auto;\n",
       "}\n",
       "\n",
       "#sk-container-id-1 input.sk-toggleable__control:checked~label.sk-toggleable__label-arrow:before {\n",
       "  content: \"▾\";\n",
       "}\n",
       "\n",
       "/* Pipeline/ColumnTransformer-specific style */\n",
       "\n",
       "#sk-container-id-1 div.sk-label input.sk-toggleable__control:checked~label.sk-toggleable__label {\n",
       "  color: var(--sklearn-color-text);\n",
       "  background-color: var(--sklearn-color-unfitted-level-2);\n",
       "}\n",
       "\n",
       "#sk-container-id-1 div.sk-label.fitted input.sk-toggleable__control:checked~label.sk-toggleable__label {\n",
       "  background-color: var(--sklearn-color-fitted-level-2);\n",
       "}\n",
       "\n",
       "/* Estimator-specific style */\n",
       "\n",
       "/* Colorize estimator box */\n",
       "#sk-container-id-1 div.sk-estimator input.sk-toggleable__control:checked~label.sk-toggleable__label {\n",
       "  /* unfitted */\n",
       "  background-color: var(--sklearn-color-unfitted-level-2);\n",
       "}\n",
       "\n",
       "#sk-container-id-1 div.sk-estimator.fitted input.sk-toggleable__control:checked~label.sk-toggleable__label {\n",
       "  /* fitted */\n",
       "  background-color: var(--sklearn-color-fitted-level-2);\n",
       "}\n",
       "\n",
       "#sk-container-id-1 div.sk-label label.sk-toggleable__label,\n",
       "#sk-container-id-1 div.sk-label label {\n",
       "  /* The background is the default theme color */\n",
       "  color: var(--sklearn-color-text-on-default-background);\n",
       "}\n",
       "\n",
       "/* On hover, darken the color of the background */\n",
       "#sk-container-id-1 div.sk-label:hover label.sk-toggleable__label {\n",
       "  color: var(--sklearn-color-text);\n",
       "  background-color: var(--sklearn-color-unfitted-level-2);\n",
       "}\n",
       "\n",
       "/* Label box, darken color on hover, fitted */\n",
       "#sk-container-id-1 div.sk-label.fitted:hover label.sk-toggleable__label.fitted {\n",
       "  color: var(--sklearn-color-text);\n",
       "  background-color: var(--sklearn-color-fitted-level-2);\n",
       "}\n",
       "\n",
       "/* Estimator label */\n",
       "\n",
       "#sk-container-id-1 div.sk-label label {\n",
       "  font-family: monospace;\n",
       "  font-weight: bold;\n",
       "  display: inline-block;\n",
       "  line-height: 1.2em;\n",
       "}\n",
       "\n",
       "#sk-container-id-1 div.sk-label-container {\n",
       "  text-align: center;\n",
       "}\n",
       "\n",
       "/* Estimator-specific */\n",
       "#sk-container-id-1 div.sk-estimator {\n",
       "  font-family: monospace;\n",
       "  border: 1px dotted var(--sklearn-color-border-box);\n",
       "  border-radius: 0.25em;\n",
       "  box-sizing: border-box;\n",
       "  margin-bottom: 0.5em;\n",
       "  /* unfitted */\n",
       "  background-color: var(--sklearn-color-unfitted-level-0);\n",
       "}\n",
       "\n",
       "#sk-container-id-1 div.sk-estimator.fitted {\n",
       "  /* fitted */\n",
       "  background-color: var(--sklearn-color-fitted-level-0);\n",
       "}\n",
       "\n",
       "/* on hover */\n",
       "#sk-container-id-1 div.sk-estimator:hover {\n",
       "  /* unfitted */\n",
       "  background-color: var(--sklearn-color-unfitted-level-2);\n",
       "}\n",
       "\n",
       "#sk-container-id-1 div.sk-estimator.fitted:hover {\n",
       "  /* fitted */\n",
       "  background-color: var(--sklearn-color-fitted-level-2);\n",
       "}\n",
       "\n",
       "/* Specification for estimator info (e.g. \"i\" and \"?\") */\n",
       "\n",
       "/* Common style for \"i\" and \"?\" */\n",
       "\n",
       ".sk-estimator-doc-link,\n",
       "a:link.sk-estimator-doc-link,\n",
       "a:visited.sk-estimator-doc-link {\n",
       "  float: right;\n",
       "  font-size: smaller;\n",
       "  line-height: 1em;\n",
       "  font-family: monospace;\n",
       "  background-color: var(--sklearn-color-background);\n",
       "  border-radius: 1em;\n",
       "  height: 1em;\n",
       "  width: 1em;\n",
       "  text-decoration: none !important;\n",
       "  margin-left: 1ex;\n",
       "  /* unfitted */\n",
       "  border: var(--sklearn-color-unfitted-level-1) 1pt solid;\n",
       "  color: var(--sklearn-color-unfitted-level-1);\n",
       "}\n",
       "\n",
       ".sk-estimator-doc-link.fitted,\n",
       "a:link.sk-estimator-doc-link.fitted,\n",
       "a:visited.sk-estimator-doc-link.fitted {\n",
       "  /* fitted */\n",
       "  border: var(--sklearn-color-fitted-level-1) 1pt solid;\n",
       "  color: var(--sklearn-color-fitted-level-1);\n",
       "}\n",
       "\n",
       "/* On hover */\n",
       "div.sk-estimator:hover .sk-estimator-doc-link:hover,\n",
       ".sk-estimator-doc-link:hover,\n",
       "div.sk-label-container:hover .sk-estimator-doc-link:hover,\n",
       ".sk-estimator-doc-link:hover {\n",
       "  /* unfitted */\n",
       "  background-color: var(--sklearn-color-unfitted-level-3);\n",
       "  color: var(--sklearn-color-background);\n",
       "  text-decoration: none;\n",
       "}\n",
       "\n",
       "div.sk-estimator.fitted:hover .sk-estimator-doc-link.fitted:hover,\n",
       ".sk-estimator-doc-link.fitted:hover,\n",
       "div.sk-label-container:hover .sk-estimator-doc-link.fitted:hover,\n",
       ".sk-estimator-doc-link.fitted:hover {\n",
       "  /* fitted */\n",
       "  background-color: var(--sklearn-color-fitted-level-3);\n",
       "  color: var(--sklearn-color-background);\n",
       "  text-decoration: none;\n",
       "}\n",
       "\n",
       "/* Span, style for the box shown on hovering the info icon */\n",
       ".sk-estimator-doc-link span {\n",
       "  display: none;\n",
       "  z-index: 9999;\n",
       "  position: relative;\n",
       "  font-weight: normal;\n",
       "  right: .2ex;\n",
       "  padding: .5ex;\n",
       "  margin: .5ex;\n",
       "  width: min-content;\n",
       "  min-width: 20ex;\n",
       "  max-width: 50ex;\n",
       "  color: var(--sklearn-color-text);\n",
       "  box-shadow: 2pt 2pt 4pt #999;\n",
       "  /* unfitted */\n",
       "  background: var(--sklearn-color-unfitted-level-0);\n",
       "  border: .5pt solid var(--sklearn-color-unfitted-level-3);\n",
       "}\n",
       "\n",
       ".sk-estimator-doc-link.fitted span {\n",
       "  /* fitted */\n",
       "  background: var(--sklearn-color-fitted-level-0);\n",
       "  border: var(--sklearn-color-fitted-level-3);\n",
       "}\n",
       "\n",
       ".sk-estimator-doc-link:hover span {\n",
       "  display: block;\n",
       "}\n",
       "\n",
       "/* \"?\"-specific style due to the `<a>` HTML tag */\n",
       "\n",
       "#sk-container-id-1 a.estimator_doc_link {\n",
       "  float: right;\n",
       "  font-size: 1rem;\n",
       "  line-height: 1em;\n",
       "  font-family: monospace;\n",
       "  background-color: var(--sklearn-color-background);\n",
       "  border-radius: 1rem;\n",
       "  height: 1rem;\n",
       "  width: 1rem;\n",
       "  text-decoration: none;\n",
       "  /* unfitted */\n",
       "  color: var(--sklearn-color-unfitted-level-1);\n",
       "  border: var(--sklearn-color-unfitted-level-1) 1pt solid;\n",
       "}\n",
       "\n",
       "#sk-container-id-1 a.estimator_doc_link.fitted {\n",
       "  /* fitted */\n",
       "  border: var(--sklearn-color-fitted-level-1) 1pt solid;\n",
       "  color: var(--sklearn-color-fitted-level-1);\n",
       "}\n",
       "\n",
       "/* On hover */\n",
       "#sk-container-id-1 a.estimator_doc_link:hover {\n",
       "  /* unfitted */\n",
       "  background-color: var(--sklearn-color-unfitted-level-3);\n",
       "  color: var(--sklearn-color-background);\n",
       "  text-decoration: none;\n",
       "}\n",
       "\n",
       "#sk-container-id-1 a.estimator_doc_link.fitted:hover {\n",
       "  /* fitted */\n",
       "  background-color: var(--sklearn-color-fitted-level-3);\n",
       "}\n",
       "</style><div id=\"sk-container-id-1\" class=\"sk-top-container\"><div class=\"sk-text-repr-fallback\"><pre>LogisticRegression(max_iter=1000)</pre><b>In a Jupyter environment, please rerun this cell to show the HTML representation or trust the notebook. <br />On GitHub, the HTML representation is unable to render, please try loading this page with nbviewer.org.</b></div><div class=\"sk-container\" hidden><div class=\"sk-item\"><div class=\"sk-estimator fitted sk-toggleable\"><input class=\"sk-toggleable__control sk-hidden--visually\" id=\"sk-estimator-id-1\" type=\"checkbox\" checked><label for=\"sk-estimator-id-1\" class=\"sk-toggleable__label fitted sk-toggleable__label-arrow fitted\">&nbsp;&nbsp;LogisticRegression<a class=\"sk-estimator-doc-link fitted\" rel=\"noreferrer\" target=\"_blank\" href=\"https://scikit-learn.org/1.5/modules/generated/sklearn.linear_model.LogisticRegression.html\">?<span>Documentation for LogisticRegression</span></a><span class=\"sk-estimator-doc-link fitted\">i<span>Fitted</span></span></label><div class=\"sk-toggleable__content fitted\"><pre>LogisticRegression(max_iter=1000)</pre></div> </div></div></div></div>"
      ],
      "text/plain": [
       "LogisticRegression(max_iter=1000)"
      ]
     },
     "execution_count": 5,
     "metadata": {},
     "output_type": "execute_result"
    }
   ],
   "source": [
    "# define feature matrix X and target vector y\n",
    "X = df.drop('label',axis=1)\n",
    "y = df.label\n",
    "\n",
    "# train/test split\n",
    "X_train,X_test,y_train,y_test = train_test_split(X,y)\n",
    "\n",
    "# instantiate the logistic regression classifier\n",
    "logreg_clf = LogisticRegression(max_iter=1000)\n",
    "\n",
    "# train the model\n",
    "logreg_clf.fit(X_train,y_train)"
   ]
  },
  {
   "cell_type": "markdown",
   "metadata": {},
   "source": [
    "Let's see how the classifier makes predictions. For each patient, logistic regression calculates the probability of having or not having diabetes. We can get these probabilities using the `.predict_proba` method."
   ]
  },
  {
   "cell_type": "markdown",
   "metadata": {},
   "source": [
    "The first column shows the probability for label 0, and the second column shows the probability for label 1."
   ]
  },
  {
   "cell_type": "code",
   "execution_count": 6,
   "metadata": {},
   "outputs": [
    {
     "data": {
      "text/plain": [
       "array([[0.79662907, 0.20337093],\n",
       "       [0.77644404, 0.22355596],\n",
       "       [0.32928273, 0.67071727],\n",
       "       [0.07317346, 0.92682654],\n",
       "       [0.10594773, 0.89405227],\n",
       "       [0.83532926, 0.16467074],\n",
       "       [0.57458941, 0.42541059],\n",
       "       [0.83203973, 0.16796027],\n",
       "       [0.11382187, 0.88617813],\n",
       "       [0.49118886, 0.50881114],\n",
       "       [0.50627656, 0.49372344],\n",
       "       [0.75065025, 0.24934975],\n",
       "       [0.78421679, 0.21578321],\n",
       "       [0.82468625, 0.17531375],\n",
       "       [0.13830101, 0.86169899],\n",
       "       [0.8922833 , 0.1077167 ],\n",
       "       [0.87689772, 0.12310228],\n",
       "       [0.40194536, 0.59805464],\n",
       "       [0.95204534, 0.04795466],\n",
       "       [0.90006402, 0.09993598],\n",
       "       [0.33641015, 0.66358985],\n",
       "       [0.44143702, 0.55856298],\n",
       "       [0.89955705, 0.10044295],\n",
       "       [0.87847105, 0.12152895],\n",
       "       [0.07804861, 0.92195139],\n",
       "       [0.78996521, 0.21003479],\n",
       "       [0.51008973, 0.48991027],\n",
       "       [0.31763023, 0.68236977],\n",
       "       [0.40912681, 0.59087319],\n",
       "       [0.56466586, 0.43533414],\n",
       "       [0.56676614, 0.43323386],\n",
       "       [0.7088896 , 0.2911104 ],\n",
       "       [0.25384782, 0.74615218],\n",
       "       [0.71580781, 0.28419219],\n",
       "       [0.9068432 , 0.0931568 ],\n",
       "       [0.89639885, 0.10360115],\n",
       "       [0.94362101, 0.05637899],\n",
       "       [0.62872758, 0.37127242],\n",
       "       [0.91129081, 0.08870919],\n",
       "       [0.86258637, 0.13741363],\n",
       "       [0.919835  , 0.080165  ],\n",
       "       [0.66817864, 0.33182136],\n",
       "       [0.09965834, 0.90034166],\n",
       "       [0.92271067, 0.07728933],\n",
       "       [0.73040037, 0.26959963],\n",
       "       [0.85252129, 0.14747871],\n",
       "       [0.26063019, 0.73936981],\n",
       "       [0.99132009, 0.00867991],\n",
       "       [0.28424285, 0.71575715],\n",
       "       [0.52253867, 0.47746133],\n",
       "       [0.87145279, 0.12854721],\n",
       "       [0.51433186, 0.48566814],\n",
       "       [0.85630289, 0.14369711],\n",
       "       [0.71530966, 0.28469034],\n",
       "       [0.48359283, 0.51640717],\n",
       "       [0.84064366, 0.15935634],\n",
       "       [0.85622182, 0.14377818],\n",
       "       [0.24797053, 0.75202947],\n",
       "       [0.46857216, 0.53142784],\n",
       "       [0.19274951, 0.80725049],\n",
       "       [0.94130635, 0.05869365],\n",
       "       [0.21170723, 0.78829277],\n",
       "       [0.12067898, 0.87932102],\n",
       "       [0.65980812, 0.34019188],\n",
       "       [0.56113615, 0.43886385],\n",
       "       [0.71375266, 0.28624734],\n",
       "       [0.91204475, 0.08795525],\n",
       "       [0.94016942, 0.05983058],\n",
       "       [0.80674435, 0.19325565],\n",
       "       [0.81699551, 0.18300449],\n",
       "       [0.61849233, 0.38150767],\n",
       "       [0.34281656, 0.65718344],\n",
       "       [0.04258962, 0.95741038],\n",
       "       [0.93859967, 0.06140033],\n",
       "       [0.35656912, 0.64343088],\n",
       "       [0.88577111, 0.11422889],\n",
       "       [0.79043086, 0.20956914],\n",
       "       [0.89202849, 0.10797151],\n",
       "       [0.50829513, 0.49170487],\n",
       "       [0.81223992, 0.18776008],\n",
       "       [0.93584331, 0.06415669],\n",
       "       [0.66698822, 0.33301178],\n",
       "       [0.86804777, 0.13195223],\n",
       "       [0.70239091, 0.29760909],\n",
       "       [0.93301615, 0.06698385],\n",
       "       [0.72887727, 0.27112273],\n",
       "       [0.9422102 , 0.0577898 ],\n",
       "       [0.65765616, 0.34234384],\n",
       "       [0.81504403, 0.18495597],\n",
       "       [0.87316149, 0.12683851],\n",
       "       [0.69548596, 0.30451404],\n",
       "       [0.85148605, 0.14851395],\n",
       "       [0.80414404, 0.19585596],\n",
       "       [0.90036856, 0.09963144],\n",
       "       [0.90842278, 0.09157722],\n",
       "       [0.82442743, 0.17557257],\n",
       "       [0.28552073, 0.71447927],\n",
       "       [0.84335141, 0.15664859],\n",
       "       [0.74221228, 0.25778772],\n",
       "       [0.93182258, 0.06817742],\n",
       "       [0.74340146, 0.25659854],\n",
       "       [0.62474476, 0.37525524],\n",
       "       [0.68698438, 0.31301562],\n",
       "       [0.93726952, 0.06273048],\n",
       "       [0.95415694, 0.04584306],\n",
       "       [0.54235726, 0.45764274],\n",
       "       [0.94909587, 0.05090413],\n",
       "       [0.38798365, 0.61201635],\n",
       "       [0.95182516, 0.04817484],\n",
       "       [0.74140342, 0.25859658],\n",
       "       [0.63874179, 0.36125821],\n",
       "       [0.83005264, 0.16994736],\n",
       "       [0.30253642, 0.69746358],\n",
       "       [0.90701254, 0.09298746],\n",
       "       [0.16309926, 0.83690074],\n",
       "       [0.64858826, 0.35141174],\n",
       "       [0.14376327, 0.85623673],\n",
       "       [0.69081287, 0.30918713],\n",
       "       [0.94946078, 0.05053922],\n",
       "       [0.25749001, 0.74250999],\n",
       "       [0.77937758, 0.22062242],\n",
       "       [0.91565282, 0.08434718],\n",
       "       [0.78144574, 0.21855426],\n",
       "       [0.91518305, 0.08481695],\n",
       "       [0.14152315, 0.85847685],\n",
       "       [0.4012311 , 0.5987689 ],\n",
       "       [0.77144107, 0.22855893],\n",
       "       [0.30060785, 0.69939215],\n",
       "       [0.8319055 , 0.1680945 ],\n",
       "       [0.89867699, 0.10132301],\n",
       "       [0.82782765, 0.17217235],\n",
       "       [0.99719692, 0.00280308],\n",
       "       [0.53040404, 0.46959596],\n",
       "       [0.54677682, 0.45322318],\n",
       "       [0.71961912, 0.28038088],\n",
       "       [0.95655234, 0.04344766],\n",
       "       [0.89482102, 0.10517898],\n",
       "       [0.49775914, 0.50224086],\n",
       "       [0.81742662, 0.18257338],\n",
       "       [0.20978939, 0.79021061],\n",
       "       [0.03986147, 0.96013853],\n",
       "       [0.81479547, 0.18520453],\n",
       "       [0.06203099, 0.93796901],\n",
       "       [0.35279741, 0.64720259],\n",
       "       [0.50669594, 0.49330406],\n",
       "       [0.80140142, 0.19859858],\n",
       "       [0.59316033, 0.40683967],\n",
       "       [0.98160527, 0.01839473],\n",
       "       [0.65629302, 0.34370698],\n",
       "       [0.6709078 , 0.3290922 ],\n",
       "       [0.64843703, 0.35156297],\n",
       "       [0.65108844, 0.34891156],\n",
       "       [0.08080234, 0.91919766],\n",
       "       [0.80930903, 0.19069097],\n",
       "       [0.93086141, 0.06913859],\n",
       "       [0.76332807, 0.23667193],\n",
       "       [0.68502547, 0.31497453],\n",
       "       [0.18140354, 0.81859646],\n",
       "       [0.16010548, 0.83989452],\n",
       "       [0.89831199, 0.10168801],\n",
       "       [0.8558374 , 0.1441626 ],\n",
       "       [0.97372534, 0.02627466],\n",
       "       [0.83960295, 0.16039705],\n",
       "       [0.24370077, 0.75629923],\n",
       "       [0.29357072, 0.70642928],\n",
       "       [0.92498987, 0.07501013],\n",
       "       [0.74439865, 0.25560135],\n",
       "       [0.94928263, 0.05071737],\n",
       "       [0.19806243, 0.80193757],\n",
       "       [0.61625028, 0.38374972],\n",
       "       [0.65922898, 0.34077102],\n",
       "       [0.86109049, 0.13890951],\n",
       "       [0.7835475 , 0.2164525 ],\n",
       "       [0.8437455 , 0.1562545 ],\n",
       "       [0.36148691, 0.63851309],\n",
       "       [0.69675193, 0.30324807],\n",
       "       [0.88411552, 0.11588448],\n",
       "       [0.46728869, 0.53271131],\n",
       "       [0.95526547, 0.04473453],\n",
       "       [0.6930731 , 0.3069269 ],\n",
       "       [0.99410869, 0.00589131],\n",
       "       [0.95687556, 0.04312444],\n",
       "       [0.82355144, 0.17644856],\n",
       "       [0.33337667, 0.66662333],\n",
       "       [0.70817678, 0.29182322],\n",
       "       [0.05702123, 0.94297877],\n",
       "       [0.07556582, 0.92443418],\n",
       "       [0.28515573, 0.71484427],\n",
       "       [0.50800726, 0.49199274],\n",
       "       [0.14255622, 0.85744378],\n",
       "       [0.73564412, 0.26435588],\n",
       "       [0.12651058, 0.87348942]])"
      ]
     },
     "execution_count": 6,
     "metadata": {},
     "output_type": "execute_result"
    }
   ],
   "source": [
    "logreg_clf.predict_proba(X_test)"
   ]
  },
  {
   "cell_type": "markdown",
   "metadata": {},
   "source": [
    "The second column gives the probability that the person has diabetes (label 1). By default, the logistic regression model converts these probabilities into predictions by assigning label 1 if the probability is 0.5 or higher, and label 0 otherwise."
   ]
  },
  {
   "cell_type": "code",
   "execution_count": 7,
   "metadata": {},
   "outputs": [
    {
     "data": {
      "text/plain": [
       "array([0.20337093, 0.22355596, 0.67071727, 0.92682654, 0.89405227,\n",
       "       0.16467074, 0.42541059, 0.16796027, 0.88617813, 0.50881114,\n",
       "       0.49372344, 0.24934975, 0.21578321, 0.17531375, 0.86169899,\n",
       "       0.1077167 , 0.12310228, 0.59805464, 0.04795466, 0.09993598,\n",
       "       0.66358985, 0.55856298, 0.10044295, 0.12152895, 0.92195139,\n",
       "       0.21003479, 0.48991027, 0.68236977, 0.59087319, 0.43533414,\n",
       "       0.43323386, 0.2911104 , 0.74615218, 0.28419219, 0.0931568 ,\n",
       "       0.10360115, 0.05637899, 0.37127242, 0.08870919, 0.13741363,\n",
       "       0.080165  , 0.33182136, 0.90034166, 0.07728933, 0.26959963,\n",
       "       0.14747871, 0.73936981, 0.00867991, 0.71575715, 0.47746133,\n",
       "       0.12854721, 0.48566814, 0.14369711, 0.28469034, 0.51640717,\n",
       "       0.15935634, 0.14377818, 0.75202947, 0.53142784, 0.80725049,\n",
       "       0.05869365, 0.78829277, 0.87932102, 0.34019188, 0.43886385,\n",
       "       0.28624734, 0.08795525, 0.05983058, 0.19325565, 0.18300449,\n",
       "       0.38150767, 0.65718344, 0.95741038, 0.06140033, 0.64343088,\n",
       "       0.11422889, 0.20956914, 0.10797151, 0.49170487, 0.18776008,\n",
       "       0.06415669, 0.33301178, 0.13195223, 0.29760909, 0.06698385,\n",
       "       0.27112273, 0.0577898 , 0.34234384, 0.18495597, 0.12683851,\n",
       "       0.30451404, 0.14851395, 0.19585596, 0.09963144, 0.09157722,\n",
       "       0.17557257, 0.71447927, 0.15664859, 0.25778772, 0.06817742,\n",
       "       0.25659854, 0.37525524, 0.31301562, 0.06273048, 0.04584306,\n",
       "       0.45764274, 0.05090413, 0.61201635, 0.04817484, 0.25859658,\n",
       "       0.36125821, 0.16994736, 0.69746358, 0.09298746, 0.83690074,\n",
       "       0.35141174, 0.85623673, 0.30918713, 0.05053922, 0.74250999,\n",
       "       0.22062242, 0.08434718, 0.21855426, 0.08481695, 0.85847685,\n",
       "       0.5987689 , 0.22855893, 0.69939215, 0.1680945 , 0.10132301,\n",
       "       0.17217235, 0.00280308, 0.46959596, 0.45322318, 0.28038088,\n",
       "       0.04344766, 0.10517898, 0.50224086, 0.18257338, 0.79021061,\n",
       "       0.96013853, 0.18520453, 0.93796901, 0.64720259, 0.49330406,\n",
       "       0.19859858, 0.40683967, 0.01839473, 0.34370698, 0.3290922 ,\n",
       "       0.35156297, 0.34891156, 0.91919766, 0.19069097, 0.06913859,\n",
       "       0.23667193, 0.31497453, 0.81859646, 0.83989452, 0.10168801,\n",
       "       0.1441626 , 0.02627466, 0.16039705, 0.75629923, 0.70642928,\n",
       "       0.07501013, 0.25560135, 0.05071737, 0.80193757, 0.38374972,\n",
       "       0.34077102, 0.13890951, 0.2164525 , 0.1562545 , 0.63851309,\n",
       "       0.30324807, 0.11588448, 0.53271131, 0.04473453, 0.3069269 ,\n",
       "       0.00589131, 0.04312444, 0.17644856, 0.66662333, 0.29182322,\n",
       "       0.94297877, 0.92443418, 0.71484427, 0.49199274, 0.85744378,\n",
       "       0.26435588, 0.87348942])"
      ]
     },
     "execution_count": 7,
     "metadata": {},
     "output_type": "execute_result"
    }
   ],
   "source": [
    "# probability of label = 1 (diabetes)\n",
    "proba = logreg_clf.predict_proba(X_test)[:,1]\n",
    "proba"
   ]
  },
  {
   "cell_type": "code",
   "execution_count": 8,
   "metadata": {},
   "outputs": [
    {
     "data": {
      "text/plain": [
       "array([0, 0, 1, 1, 1, 0, 0, 0, 1, 1, 0, 0, 0, 0, 1, 0, 0, 1, 0, 0, 1, 1,\n",
       "       0, 0, 1, 0, 0, 1, 1, 0, 0, 0, 1, 0, 0, 0, 0, 0, 0, 0, 0, 0, 1, 0,\n",
       "       0, 0, 1, 0, 1, 0, 0, 0, 0, 0, 1, 0, 0, 1, 1, 1, 0, 1, 1, 0, 0, 0,\n",
       "       0, 0, 0, 0, 0, 1, 1, 0, 1, 0, 0, 0, 0, 0, 0, 0, 0, 0, 0, 0, 0, 0,\n",
       "       0, 0, 0, 0, 0, 0, 0, 0, 1, 0, 0, 0, 0, 0, 0, 0, 0, 0, 0, 1, 0, 0,\n",
       "       0, 0, 1, 0, 1, 0, 1, 0, 0, 1, 0, 0, 0, 0, 1, 1, 0, 1, 0, 0, 0, 0,\n",
       "       0, 0, 0, 0, 0, 1, 0, 1, 1, 0, 1, 1, 0, 0, 0, 0, 0, 0, 0, 0, 1, 0,\n",
       "       0, 0, 0, 1, 1, 0, 0, 0, 0, 1, 1, 0, 0, 0, 1, 0, 0, 0, 0, 0, 1, 0,\n",
       "       0, 1, 0, 0, 0, 0, 0, 1, 0, 1, 1, 1, 0, 1, 0, 1], dtype=int64)"
      ]
     },
     "execution_count": 8,
     "metadata": {},
     "output_type": "execute_result"
    }
   ],
   "source": [
    "# sklearn predictions uses threshold = 0.5\n",
    "y_test_pred = logreg_clf.predict(X_test)\n",
    "y_test_pred"
   ]
  },
  {
   "cell_type": "code",
   "execution_count": 9,
   "metadata": {},
   "outputs": [
    {
     "name": "stdout",
     "output_type": "stream",
     "text": [
      "0.8020833333333334\n",
      "0.6086956521739131\n",
      "0.7924528301886793\n"
     ]
    }
   ],
   "source": [
    "print(accuracy_score(y_test,y_test_pred))\n",
    "print(recall_score(y_test,y_test_pred))\n",
    "print(precision_score(y_test,y_test_pred))"
   ]
  },
  {
   "cell_type": "markdown",
   "metadata": {},
   "source": [
    "In other words, scikit-learn uses 0.5 as the default threshold, but why not try another value? Scikit-learn doesn't let you set the threshold directly, so we have to do it manually."
   ]
  },
  {
   "cell_type": "code",
   "execution_count": 10,
   "metadata": {},
   "outputs": [
    {
     "data": {
      "text/plain": [
       "array([0., 0., 1., 1., 1., 0., 1., 0., 1., 1., 1., 0., 0., 0., 1., 0., 0.,\n",
       "       1., 0., 0., 1., 1., 0., 0., 1., 0., 1., 1., 1., 1., 1., 0., 1., 0.,\n",
       "       0., 0., 0., 1., 0., 0., 0., 1., 1., 0., 0., 0., 1., 0., 1., 1., 0.,\n",
       "       1., 0., 0., 1., 0., 0., 1., 1., 1., 0., 1., 1., 1., 1., 0., 0., 0.,\n",
       "       0., 0., 1., 1., 1., 0., 1., 0., 0., 0., 1., 0., 0., 1., 0., 0., 0.,\n",
       "       0., 0., 1., 0., 0., 1., 0., 0., 0., 0., 0., 1., 0., 0., 0., 0., 1.,\n",
       "       1., 0., 0., 1., 0., 1., 0., 0., 1., 0., 1., 0., 1., 1., 1., 1., 0.,\n",
       "       1., 0., 0., 0., 0., 1., 1., 0., 1., 0., 0., 0., 0., 1., 1., 0., 0.,\n",
       "       0., 1., 0., 1., 1., 0., 1., 1., 1., 0., 1., 0., 1., 1., 1., 1., 1.,\n",
       "       0., 0., 0., 1., 1., 1., 0., 0., 0., 0., 1., 1., 0., 0., 0., 1., 1.,\n",
       "       1., 0., 0., 0., 1., 1., 0., 1., 0., 1., 0., 0., 0., 1., 0., 1., 1.,\n",
       "       1., 1., 1., 0., 1.])"
      ]
     },
     "execution_count": 10,
     "metadata": {},
     "output_type": "execute_result"
    }
   ],
   "source": [
    "# Predictions with a different threshold\n",
    "threshold = 0.3 # Set new threshold\n",
    "y_test_pred = np.zeros(len(y_test)) # Create a vector of all zeros\n",
    "y_test_pred[proba > threshold] = 1 # Set to 1 if probability is greater than the threshold\n",
    "y_test_pred"
   ]
  },
  {
   "cell_type": "code",
   "execution_count": 11,
   "metadata": {},
   "outputs": [
    {
     "name": "stdout",
     "output_type": "stream",
     "text": [
      "0.7916666666666666\n",
      "0.855072463768116\n",
      "0.6629213483146067\n"
     ]
    }
   ],
   "source": [
    "# All evaluation metrics will change\n",
    "print(accuracy_score(y_test,y_test_pred))\n",
    "print(recall_score(y_test,y_test_pred))\n",
    "print(precision_score(y_test,y_test_pred))"
   ]
  },
  {
   "cell_type": "markdown",
   "metadata": {},
   "source": [
    "We can loop through different thresholds and see which one gives the best evaluation metric (accuracy, recall, precision, etc.). But before we do that, think about what might happen to recall and precision as we change the threshold from 0 to 1."
   ]
  },
  {
   "cell_type": "code",
   "execution_count": 12,
   "metadata": {},
   "outputs": [
    {
     "data": {
      "text/plain": [
       "array([0.        , 0.01010101, 0.02020202, 0.03030303, 0.04040404,\n",
       "       0.05050505, 0.06060606, 0.07070707, 0.08080808, 0.09090909,\n",
       "       0.1010101 , 0.11111111, 0.12121212, 0.13131313, 0.14141414,\n",
       "       0.15151515, 0.16161616, 0.17171717, 0.18181818, 0.19191919,\n",
       "       0.2020202 , 0.21212121, 0.22222222, 0.23232323, 0.24242424,\n",
       "       0.25252525, 0.26262626, 0.27272727, 0.28282828, 0.29292929,\n",
       "       0.3030303 , 0.31313131, 0.32323232, 0.33333333, 0.34343434,\n",
       "       0.35353535, 0.36363636, 0.37373737, 0.38383838, 0.39393939,\n",
       "       0.4040404 , 0.41414141, 0.42424242, 0.43434343, 0.44444444,\n",
       "       0.45454545, 0.46464646, 0.47474747, 0.48484848, 0.49494949,\n",
       "       0.50505051, 0.51515152, 0.52525253, 0.53535354, 0.54545455,\n",
       "       0.55555556, 0.56565657, 0.57575758, 0.58585859, 0.5959596 ,\n",
       "       0.60606061, 0.61616162, 0.62626263, 0.63636364, 0.64646465,\n",
       "       0.65656566, 0.66666667, 0.67676768, 0.68686869, 0.6969697 ,\n",
       "       0.70707071, 0.71717172, 0.72727273, 0.73737374, 0.74747475,\n",
       "       0.75757576, 0.76767677, 0.77777778, 0.78787879, 0.7979798 ,\n",
       "       0.80808081, 0.81818182, 0.82828283, 0.83838384, 0.84848485,\n",
       "       0.85858586, 0.86868687, 0.87878788, 0.88888889, 0.8989899 ,\n",
       "       0.90909091, 0.91919192, 0.92929293, 0.93939394, 0.94949495,\n",
       "       0.95959596, 0.96969697, 0.97979798, 0.98989899, 1.        ])"
      ]
     },
     "execution_count": 12,
     "metadata": {},
     "output_type": "execute_result"
    }
   ],
   "source": [
    "# Create an array of different thresholds\n",
    "thresholds = np.linspace(0, 1, 100) # 100 evenly spaced points between 0 and 1\n",
    "thresholds"
   ]
  },
  {
   "cell_type": "code",
   "execution_count": 15,
   "metadata": {},
   "outputs": [
    {
     "name": "stderr",
     "output_type": "stream",
     "text": [
      "C:\\Users\\javier.perez-alvaro\\AppData\\Local\\anaconda3\\Lib\\site-packages\\sklearn\\metrics\\_classification.py:1531: UndefinedMetricWarning: Precision is ill-defined and being set to 0.0 due to no predicted samples. Use `zero_division` parameter to control this behavior.\n",
      "  _warn_prf(average, modifier, f\"{metric.capitalize()} is\", len(result))\n",
      "C:\\Users\\javier.perez-alvaro\\AppData\\Local\\anaconda3\\Lib\\site-packages\\sklearn\\metrics\\_classification.py:1531: UndefinedMetricWarning: Precision is ill-defined and being set to 0.0 due to no predicted samples. Use `zero_division` parameter to control this behavior.\n",
      "  _warn_prf(average, modifier, f\"{metric.capitalize()} is\", len(result))\n",
      "C:\\Users\\javier.perez-alvaro\\AppData\\Local\\anaconda3\\Lib\\site-packages\\sklearn\\metrics\\_classification.py:1531: UndefinedMetricWarning: Precision is ill-defined and being set to 0.0 due to no predicted samples. Use `zero_division` parameter to control this behavior.\n",
      "  _warn_prf(average, modifier, f\"{metric.capitalize()} is\", len(result))\n",
      "C:\\Users\\javier.perez-alvaro\\AppData\\Local\\anaconda3\\Lib\\site-packages\\sklearn\\metrics\\_classification.py:1531: UndefinedMetricWarning: Precision is ill-defined and being set to 0.0 due to no predicted samples. Use `zero_division` parameter to control this behavior.\n",
      "  _warn_prf(average, modifier, f\"{metric.capitalize()} is\", len(result))\n"
     ]
    }
   ],
   "source": [
    "accuracies = []\n",
    "recalls = []\n",
    "precisions = []\n",
    "# Loop over the thresholds\n",
    "for threshold in thresholds:\n",
    "    y_test_pred = np.zeros(len(y_test)) # vector of all zeros\n",
    "    y_test_pred[proba > threshold]=1\n",
    "    # accuracy\n",
    "    accuracies.append(accuracy_score(y_test,y_test_pred))\n",
    "    # recall\n",
    "    recalls.append(recall_score(y_test,y_test_pred))\n",
    "    # precision\n",
    "    precisions.append(precision_score(y_test,y_test_pred))"
   ]
  },
  {
   "cell_type": "code",
   "execution_count": 16,
   "metadata": {},
   "outputs": [
    {
     "data": {
      "text/plain": [
       "<matplotlib.legend.Legend at 0x15d94364310>"
      ]
     },
     "execution_count": 16,
     "metadata": {},
     "output_type": "execute_result"
    },
    {
     "data": {
      "image/png": "[encoded data removed]",
      "text/plain": [
       "<Figure size 1500x500 with 1 Axes>"
      ]
     },
     "metadata": {},
     "output_type": "display_data"
    }
   ],
   "source": [
    "fig, axes = plt.subplots(figsize=(15,5))\n",
    "\n",
    "axes.plot(thresholds,accuracies,label='accuracy')\n",
    "axes.plot(thresholds,recalls,label='recall')\n",
    "axes.plot(thresholds,precisions,label='precision')\n",
    "\n",
    "axes.grid(True)\n",
    "axes.set_title('Evaluation metrics as a function of the threshold')\n",
    "axes.legend()\n"
   ]
  },
  {
   "cell_type": "markdown",
   "metadata": {},
   "source": [
    "As we lower the threshold, recall initially remains high but starts to drop around 0.4, while precision improves. Accuracy shows a steady increase at first but flattens around the middle and slightly declines at higher thresholds. The interaction between recall and precision is clear: lowering the threshold improves recall but reduces precision, and vice versa."
   ]
  },
  {
   "cell_type": "markdown",
   "metadata": {},
   "source": [
    "## 2. Precision/Recall Trade-off"
   ]
  },
  {
   "cell_type": "markdown",
   "metadata": {},
   "source": [
    "The precision-recall curve shows the tradeoff between precision and recall at different thresholds. A high area under the curve means both high recall and high precision. High precision means fewer false positives, while high recall means fewer false negatives. A good balance of both means the classifier is returning accurate results (high precision) and capturing most of the positive cases (high recall)."
   ]
  },
  {
   "cell_type": "code",
   "execution_count": 17,
   "metadata": {},
   "outputs": [
    {
     "data": {
      "text/plain": [
       "Text(0, 0.5, 'precision')"
      ]
     },
     "execution_count": 17,
     "metadata": {},
     "output_type": "execute_result"
    },
    {
     "data": {
      "image/png": "[encoded data removed]",
      "text/plain": [
       "<Figure size 1000x700 with 1 Axes>"
      ]
     },
     "metadata": {},
     "output_type": "display_data"
    }
   ],
   "source": [
    "# precision vs recall curve\n",
    "fig, ax = plt.subplots(figsize=(10,7))\n",
    "ax.plot(recalls,precisions)\n",
    "ax.grid(True)\n",
    "ax.set_xlabel('recall')\n",
    "ax.set_ylabel('precision')"
   ]
  },
  {
   "cell_type": "markdown",
   "metadata": {},
   "source": [
    "This precision-recall curve shows the tradeoff between precision and recall for different thresholds. \n",
    "At low recall values, precision is high, meaning fewer false positives, but as recall increases, precision gradually drops.\n",
    "This is a common pattern where increasing recall comes at the cost of precision.\n",
    "The curve's shape indicates how well the classifier balances identifying positive cases (recall) while minimizing false positives (precision). In this case, the precision stays relatively high up to a recall of about 0.5, then starts to decline."
   ]
  },
  {
   "cell_type": "markdown",
   "metadata": {},
   "source": [
    "For an **ideal classifier**, the precision-recall curve would stay at precision = 1 across all recall values until recall reaches 1. This means it perfectly identifies all positives with no false positives or negatives, showing a straight line at the top of the plot."
   ]
  },
  {
   "cell_type": "markdown",
   "metadata": {},
   "source": [
    "For a really **bad classifier**, the precision-recall curve would look like random guessing. Both precision and recall would be low, and the curve would stay near the baseline. In the worst case, it would quickly drop toward 0, showing poor performance in identifying positives and avoiding false positives."
   ]
  },
  {
   "cell_type": "markdown",
   "metadata": {},
   "source": [
    "We don't have to do all of this manually (building the threshold vector, looping over thresholds, etc.). Scikit-learn has built-in tools for this, like `PrecisionRecallDisplay`."
   ]
  },
  {
   "cell_type": "code",
   "execution_count": 18,
   "metadata": {
    "scrolled": true
   },
   "outputs": [
    {
     "data": {
      "image/png": "[encoded data removed]",
      "text/plain": [
       "<Figure size 1000x700 with 1 Axes>"
      ]
     },
     "metadata": {},
     "output_type": "display_data"
    }
   ],
   "source": [
    "from sklearn.metrics import PrecisionRecallDisplay\n",
    "# to plot the precision-recall curve, you should use PrecisionRecallDisplay\n",
    "fig, ax = plt.subplots(figsize=(10,7))\n",
    "PrecisionRecallDisplay.from_estimator(logreg_clf,X_test,y_test,ax=ax)\n",
    "ax.grid(True)"
   ]
  },
  {
   "cell_type": "markdown",
   "metadata": {},
   "source": [
    "The plot also shows the AP value, which stands for \"average precision\" and represents the area under the precision-recall curve. It's an important metric for evaluating model performance. We can calculate it without showing the precision-recall plot."
   ]
  },
  {
   "cell_type": "code",
   "execution_count": 19,
   "metadata": {},
   "outputs": [
    {
     "data": {
      "text/plain": [
       "0.7557861399259171"
      ]
     },
     "execution_count": 19,
     "metadata": {},
     "output_type": "execute_result"
    }
   ],
   "source": [
    "from sklearn.metrics import average_precision_score\n",
    "average_precision_score(y_test,proba)"
   ]
  },
  {
   "cell_type": "markdown",
   "metadata": {},
   "source": [
    "## ROC curve and AUC score"
   ]
  },
  {
   "cell_type": "markdown",
   "metadata": {},
   "source": [
    "ROC stands for \"Receiver Operating Characteristic\".\n",
    "It was originally created to evaluate radar detectors during WWII and now helps assess how well a model separates two classes.\n",
    "\n",
    "The ROC curve is based on two key metrics:\n",
    "\n",
    "- **False Positive Rate (FPR):** The fraction of false positives out of all negative examples.\n",
    "- **True Positive Rate (TPR):** The fraction of true positives out of all positive examples.\n",
    "\n",
    "These values come from the confusion matrix, similar to precision and recall.\n",
    "$$\n",
    "\\mathrm{FPR} = \\frac{\\mathrm{FP}}{\\mathrm{FP} + \\mathrm{TN}} \\quad \\text{and} \\quad \\mathrm{TPR} = \\frac{\\mathrm{TP}}{\\mathrm{TP} + \\mathrm{FN}}\n",
    "$$"
   ]
  },
  {
   "cell_type": "markdown",
   "metadata": {},
   "source": [
    "To create a ROC curve, we plot FPR against TPR."
   ]
  },
  {
   "cell_type": "code",
   "execution_count": 20,
   "metadata": {},
   "outputs": [],
   "source": [
    "from sklearn.metrics import RocCurveDisplay"
   ]
  },
  {
   "cell_type": "code",
   "execution_count": 21,
   "metadata": {},
   "outputs": [
    {
     "data": {
      "text/plain": [
       "<sklearn.metrics._plot.roc_curve.RocCurveDisplay at 0x15d8f3bec10>"
      ]
     },
     "execution_count": 21,
     "metadata": {},
     "output_type": "execute_result"
    },
    {
     "data": {
      "image/png": "[encoded data removed]",
      "text/plain": [
       "<Figure size 640x480 with 1 Axes>"
      ]
     },
     "metadata": {},
     "output_type": "display_data"
    }
   ],
   "source": [
    "RocCurveDisplay.from_estimator(logreg_clf,X_test,y_test)"
   ]
  },
  {
   "cell_type": "markdown",
   "metadata": {},
   "source": [
    "The plot also displays the AUC score, which stands for 'Area Under the Curve' of the ROC curve"
   ]
  },
  {
   "cell_type": "markdown",
   "metadata": {},
   "source": [
    "If we only need the AUC score, there's no need to compute the entire ROC curve first. We can simply use the `roc_auc_score` function from Scikit-learn."
   ]
  },
  {
   "cell_type": "code",
   "execution_count": 22,
   "metadata": {},
   "outputs": [
    {
     "data": {
      "text/plain": [
       "0.8831153528926594"
      ]
     },
     "execution_count": 22,
     "metadata": {},
     "output_type": "execute_result"
    }
   ],
   "source": [
    "from sklearn.metrics import roc_auc_score\n",
    "roc_auc_score(y_test,proba)"
   ]
  },
  {
   "cell_type": "markdown",
   "metadata": {},
   "source": [
    "The AUC score helps evaluate how well a model distinguishes between the two classes. \n",
    "Here's a general guide for interpreting AUC scores:"
   ]
  },
  {
   "cell_type": "markdown",
   "metadata": {},
   "source": [
    "\r\n",
    "\r\n",
    "| AUC Score | Model Performance |\r\n",
    "| - | - |\r\n",
    "| 0.5 | Random (no better than guessing) |\r\n",
    "| 0.6 | Poor |\r\n",
    "| 0.7 | Weak |\r\n",
    "| 0.8 | Decent |\r\n",
    "| 0.9 | Good |\r\n",
    "| 1.0 | Perfect (ideal clang randomly.\""
   ]
  },
  {
   "cell_type": "markdown",
   "metadata": {},
   "source": [
    "\n",
    "A higher AUC score indicates better model performance, with 1.0 representing a perfect classifier and 0.5 meaning the model is guessing randomly."
   ]
  }
 ],
 "metadata": {
  "kernelspec": {
   "display_name": "Python 3 (ipykernel)",
   "language": "python",
   "name": "python3"
  },
  "language_info": {
   "codemirror_mode": {
    "name": "ipython",
    "version": 3
   },
   "file_extension": ".py",
   "mimetype": "text/x-python",
   "name": "python",
   "nbconvert_exporter": "python",
   "pygments_lexer": "ipython3",
   "version": "3.11.9"
  }
 },
 "nbformat": 4,
 "nbformat_minor": 4
}
