{
 "cells": [
  {
   "cell_type": "code",
   "execution_count": 1,
   "metadata": {},
   "outputs": [],
   "source": [
    "import pandas as pd\n",
    "import matplotlib.pyplot as plt\n",
    "import numpy as np"
   ]
  },
  {
   "cell_type": "markdown",
   "metadata": {},
   "source": [
    "# Evaluating Classification Models: Metrics and Cross-Validation"
   ]
  },
  {
   "cell_type": "markdown",
   "metadata": {},
   "source": [
    "We’ve trained a classification model, possibly one of the models we’ve discussed, like logistic regression, k-nearest neighbors, decision trees, or another you’re familiar with. The model makes predictions—but how good are those predictions? This is the key question, and answering it can be challenging."
   ]
  },
  {
   "cell_type": "markdown",
   "metadata": {},
   "source": [
    "We need a method to evaluate the model’s predictions.\n",
    "This allows us to compare different models—like k-NN, logistic regression, decision trees—and choose the best one. It also helps us fine-tune hyperparameters to improve performance."
   ]
  },
  {
   "cell_type": "markdown",
   "metadata": {},
   "source": [
    "This is where model **evaluation metrics** come into play.\n",
    "Scikit-learn provides a variety of these metrics, and we’ll explore several of the most important ones in this section."
   ]
  },
  {
   "cell_type": "markdown",
   "metadata": {},
   "source": [
    "Contents:\n",
    "\n",
    "- [Train-Test Split](#1.-Train-Test-Split)\n",
    "- [Evaluating a Classifier’s Performance](#2.-Evaluating-a-Classifier’s-Performance)\n",
    "- [Cross Validation](#3.-Cross-validation)"
   ]
  },
  {
   "cell_type": "markdown",
   "metadata": {},
   "source": [
    "## 1. Train-Test Split"
   ]
  },
  {
   "cell_type": "markdown",
   "metadata": {},
   "source": [
    "We’ve trained a model, but the key question is: how well will it generalize to new, unseen data? Of course, we don’t have access to this unseen data right now. So, what can we do?\n",
    "We need a method to estimate how well our model will perform on future data without actually having that data in hand."
   ]
  },
  {
   "cell_type": "markdown",
   "metadata": {},
   "source": [
    "Let’s load a dataset known as the Pima Indians Diabetes dataset. This dataset contains medical data from Pima Indian women. The goal is to predict whether or not a patient has diabetes based on several medical factors, such as age, blood pressure, and body mass index."
   ]
  },
  {
   "cell_type": "code",
   "execution_count": 3,
   "metadata": {},
   "outputs": [
    {
     "data": {
      "text/html": [
       "<div>\n",
       "<style scoped>\n",
       "    .dataframe tbody tr th:only-of-type {\n",
       "        vertical-align: middle;\n",
       "    }\n",
       "\n",
       "    .dataframe tbody tr th {\n",
       "        vertical-align: top;\n",
       "    }\n",
       "\n",
       "    .dataframe thead th {\n",
       "        text-align: right;\n",
       "    }\n",
       "</style>\n",
       "<table border=\"1\" class=\"dataframe\">\n",
       "  <thead>\n",
       "    <tr style=\"text-align: right;\">\n",
       "      <th></th>\n",
       "      <th>pregnant</th>\n",
       "      <th>glucose</th>\n",
       "      <th>bp</th>\n",
       "      <th>skin</th>\n",
       "      <th>insulin</th>\n",
       "      <th>bmi</th>\n",
       "      <th>pedigree</th>\n",
       "      <th>age</th>\n",
       "      <th>label</th>\n",
       "    </tr>\n",
       "  </thead>\n",
       "  <tbody>\n",
       "    <tr>\n",
       "      <th>0</th>\n",
       "      <td>6</td>\n",
       "      <td>148</td>\n",
       "      <td>72</td>\n",
       "      <td>35</td>\n",
       "      <td>0</td>\n",
       "      <td>33.6</td>\n",
       "      <td>0.627</td>\n",
       "      <td>50</td>\n",
       "      <td>1</td>\n",
       "    </tr>\n",
       "    <tr>\n",
       "      <th>1</th>\n",
       "      <td>1</td>\n",
       "      <td>85</td>\n",
       "      <td>66</td>\n",
       "      <td>29</td>\n",
       "      <td>0</td>\n",
       "      <td>26.6</td>\n",
       "      <td>0.351</td>\n",
       "      <td>31</td>\n",
       "      <td>0</td>\n",
       "    </tr>\n",
       "    <tr>\n",
       "      <th>2</th>\n",
       "      <td>8</td>\n",
       "      <td>183</td>\n",
       "      <td>64</td>\n",
       "      <td>0</td>\n",
       "      <td>0</td>\n",
       "      <td>23.3</td>\n",
       "      <td>0.672</td>\n",
       "      <td>32</td>\n",
       "      <td>1</td>\n",
       "    </tr>\n",
       "    <tr>\n",
       "      <th>3</th>\n",
       "      <td>1</td>\n",
       "      <td>89</td>\n",
       "      <td>66</td>\n",
       "      <td>23</td>\n",
       "      <td>94</td>\n",
       "      <td>28.1</td>\n",
       "      <td>0.167</td>\n",
       "      <td>21</td>\n",
       "      <td>0</td>\n",
       "    </tr>\n",
       "    <tr>\n",
       "      <th>4</th>\n",
       "      <td>0</td>\n",
       "      <td>137</td>\n",
       "      <td>40</td>\n",
       "      <td>35</td>\n",
       "      <td>168</td>\n",
       "      <td>43.1</td>\n",
       "      <td>2.288</td>\n",
       "      <td>33</td>\n",
       "      <td>1</td>\n",
       "    </tr>\n",
       "  </tbody>\n",
       "</table>\n",
       "</div>"
      ],
      "text/plain": [
       "   pregnant  glucose  bp  skin  insulin   bmi  pedigree  age  label\n",
       "0         6      148  72    35        0  33.6     0.627   50      1\n",
       "1         1       85  66    29        0  26.6     0.351   31      0\n",
       "2         8      183  64     0        0  23.3     0.672   32      1\n",
       "3         1       89  66    23       94  28.1     0.167   21      0\n",
       "4         0      137  40    35      168  43.1     2.288   33      1"
      ]
     },
     "execution_count": 3,
     "metadata": {},
     "output_type": "execute_result"
    }
   ],
   "source": [
    "# load the Pima indian diabetes dataset\n",
    "path = 'https://raw.githubusercontent.com/um-perez-alvaro/Data-Science-Practice/master/Data/pima.csv'\n",
    "df = pd.read_csv(path)\n",
    "df.head()"
   ]
  },
  {
   "cell_type": "markdown",
   "metadata": {},
   "source": [
    "The Pima Indians Diabetes dataset comes from a study conducted by the National Institute of Diabetes and Digestive and Kidney Diseases. \n",
    "It focuses on the Pima Indian population, a group of Native Americans living in Arizona.\n",
    "This group was chosen because they have a high prevalence of Type 2 diabetes.\n",
    "\n",
    "The dataset contains medical information from 768 female patients of Pima Indian heritage, including factors like age, body mass index (BMI), blood pressure, and blood glucose concentration. The goal of the study was to identify factors that could predict the likelihood of diabetes onset."
   ]
  },
  {
   "cell_type": "markdown",
   "metadata": {},
   "source": [
    "| Column     | Description |\n",
    "|------------|-------------|\n",
    "| **pregnant** | Number of pregnancies the patient has had |\n",
    "| **glucose**  | Plasma glucose concentration 2 hours after an oral glucose tolerance test |\n",
    "| **bp**       | Diastolic blood pressure (mm Hg) |\n",
    "| **skin**     | Triceps skin fold thickness (mm) |\n",
    "| **insulin**  | 2-hour serum insulin (mu U/ml) |\n",
    "| **bmi**      | Body mass index (weight in kg/(height in m)^2) |\n",
    "| **pedigree** | Diabetes pedigree function (a measure of family history and genetic risk) |\n",
    "| **age**      | Age of the patient (years) |\n",
    "| **label**    | whether the patient has diabetes: 1 for diabetic and 0 for non-diabetic |"
   ]
  },
  {
   "cell_type": "markdown",
   "metadata": {},
   "source": [
    "Each row represents a patient, and the label column indicates whether the patient has diabetes: 1 for diabetic and 0 for non-diabetic. Let’s now check how many patients in the dataset are classified as diabetic."
   ]
  },
  {
   "cell_type": "code",
   "execution_count": 3,
   "metadata": {},
   "outputs": [
    {
     "data": {
      "text/plain": [
       "0    500\n",
       "1    268\n",
       "Name: label, dtype: int64"
      ]
     },
     "execution_count": 3,
     "metadata": {},
     "output_type": "execute_result"
    }
   ],
   "source": [
    "pima.label.value_counts() # "
   ]
  },
  {
   "cell_type": "markdown",
   "metadata": {},
   "source": [
    "Now, let’s build the feature matrix and the target vector. The feature matrix will contain all the input variables (e.g., glucose, blood pressure, BMI), while the target vector will hold the labels indicating whether each patient has diabetes (1) or not (0)"
   ]
  },
  {
   "cell_type": "code",
   "execution_count": 7,
   "metadata": {},
   "outputs": [],
   "source": [
    "# feature matrix X, target vector y\n",
    "X = df[feature_cols]\n",
    "y = df.label"
   ]
  },
  {
   "cell_type": "markdown",
   "metadata": {},
   "source": [
    "To simulate \"having unseen, new data\", we use a **train-test split**. \n",
    "We divide the dataset into two parts: the **training set**, used to train the model, and the **test set**, used to evaluate its performance on unseen data.\n",
    "\n",
    "Here’s how to do it with scikit-learn:"
   ]
  },
  {
   "cell_type": "code",
   "execution_count": 8,
   "metadata": {},
   "outputs": [],
   "source": [
    "# split X and y into training and testing sets\n",
    "from sklearn.model_selection import train_test_split\n",
    "X_train, X_test, y_train, y_test = train_test_split(X, y, test_size=0.2)"
   ]
  },
  {
   "cell_type": "markdown",
   "metadata": {},
   "source": [
    "With `test_size=0.2`, 20% of the data is set aside for testing."
   ]
  },
  {
   "cell_type": "markdown",
   "metadata": {},
   "source": [
    "Now, we will use a k-NN model to train on the training set and then predict the labels (diabetes) for the test set."
   ]
  },
  {
   "cell_type": "code",
   "execution_count": 12,
   "metadata": {},
   "outputs": [],
   "source": [
    "from sklearn.neighbors import KNeighborsClassifier\n",
    "\n",
    "# Instantiate the k-NN model with 10 neighbors \n",
    "knn_clf = KNeighborsClassifier(n_neighbors=10)\n",
    "\n",
    "# Fit the model on the training data\n",
    "knn_clf.fit(X_train, y_train)\n",
    "\n",
    "# Use the trained model to predict labels for the test set\n",
    "y_test_pred = knn_clf.predict(X_test)"
   ]
  },
  {
   "cell_type": "code",
   "execution_count": 13,
   "metadata": {},
   "outputs": [
    {
     "data": {
      "text/plain": [
       "array([0, 1, 0, 0, 0, 0, 0, 0, 1, 1, 0, 0, 0, 0, 0, 1, 0, 0, 0, 1, 0, 0,\n",
       "       0, 0, 1, 0, 0, 0, 0, 1, 1, 0, 0, 0, 1, 0, 0, 1, 0, 0, 1, 0, 0, 0,\n",
       "       0, 0, 0, 0, 0, 0, 0, 0, 0, 0, 0, 0, 0, 0, 0, 1, 0, 0, 0, 1, 0, 1,\n",
       "       1, 1, 0, 0, 0, 1, 1, 0, 0, 0, 1, 0, 0, 0, 1, 1, 1, 1, 1, 0, 0, 0,\n",
       "       0, 0, 0, 0, 1, 0, 0, 0, 0, 0, 0, 0, 0, 1, 0, 0, 1, 0, 0, 1, 0, 0,\n",
       "       0, 0, 0, 0, 0, 1, 1, 0, 0, 0, 1, 1, 0, 1, 0, 0, 0, 0, 1, 0, 1, 1,\n",
       "       0, 0, 0, 0, 0, 0, 0, 0, 1, 0, 0, 1, 1, 1, 0, 0, 0, 0, 0, 0, 1, 1],\n",
       "      dtype=int64)"
      ]
     },
     "execution_count": 13,
     "metadata": {},
     "output_type": "execute_result"
    }
   ],
   "source": [
    "y_test_pred"
   ]
  },
  {
   "cell_type": "code",
   "execution_count": 14,
   "metadata": {},
   "outputs": [
    {
     "name": "stdout",
     "output_type": "stream",
     "text": [
      "Object `they` not found.\n"
     ]
    }
   ],
   "source": [
    "Now that we have the predictions, how good are they?"
   ]
  },
  {
   "cell_type": "markdown",
   "metadata": {},
   "source": [
    "## 2. Evaluating a Classifier’s Performance"
   ]
  },
  {
   "cell_type": "markdown",
   "metadata": {},
   "source": [
    "To assess how well our model performed, we’ll use an **evaluation metric** to compare the actual labels (`y_test`) with the predicted labels (`y_test_pred`). \n",
    "Scikit-learn provides many evaluation metrics for this purpose. You can explore the full list on the [scikit-learn reference page](https://scikit-learn.org/stable/modules/model_evaluation.html#scoring-parameter).\n",
    "\n",
    "Let’s take a look at some of the most commonly used evaluation metrics."
   ]
  },
  {
   "cell_type": "markdown",
   "metadata": {},
   "source": [
    "### 2.1. Accuracy"
   ]
  },
  {
   "cell_type": "markdown",
   "metadata": {},
   "source": [
    "**Accuracy** is a common evaluation metric that measures the proportion of correct predictions made by the model. \n",
    "It’s calculated as the number of correct predictions divided by the total number of predictions. In other words, accuracy tells us what percentage of the predictions were correct.\n",
    "\n",
    "$$\n",
    "\\text{Accuracy} = \\frac{\\text{Number of correct predictions}}{\\text{Total number of predictions}}\n",
    "$$"
   ]
  },
  {
   "cell_type": "code",
   "execution_count": 17,
   "metadata": {},
   "outputs": [
    {
     "data": {
      "text/plain": [
       "0.7272727272727273"
      ]
     },
     "execution_count": 17,
     "metadata": {},
     "output_type": "execute_result"
    }
   ],
   "source": [
    "from sklearn.metrics import accuracy_score\n",
    "accuracy_score(y_test, y_test_pred)"
   ]
  },
  {
   "cell_type": "markdown",
   "metadata": {},
   "source": [
    "It looks like about 72% of the predictions are correct."
   ]
  },
  {
   "cell_type": "markdown",
   "metadata": {},
   "source": [
    "### 2.2. Confusion matrix"
   ]
  },
  {
   "cell_type": "markdown",
   "metadata": {},
   "source": [
    "The confusion matrix provides a more nuanced view of the model's predictions compared to simple accuracy.\n",
    "It shows how often the model correctly or incorrectly classifies each class.\n",
    "\n",
    "The matrix has four key components:\n",
    "\n",
    "- **True Positives (TP)**: The number of times the model correctly predicted the positive class (label 1).\n",
    "- **True Negatives (TN)**: The number of times the model correctly predicted the negative class (label 0).\n",
    "- **False Positives (FP)**: The number of times the model incorrectly predicted the positive class (also known as a \"Type I error\").\n",
    "- **False Negatives (FN)**: The number of times the model incorrectly predicted the negative class (also known as a \"Type II error\")."
   ]
  },
  {
   "cell_type": "code",
   "execution_count": 18,
   "metadata": {},
   "outputs": [
    {
     "data": {
      "text/plain": [
       "<sklearn.metrics._plot.confusion_matrix.ConfusionMatrixDisplay at 0x24b954f7c10>"
      ]
     },
     "execution_count": 18,
     "metadata": {},
     "output_type": "execute_result"
    },
    {
     "data": {
      "image/png": "[encoded data removed]",
      "text/plain": [
       "<Figure size 640x480 with 2 Axes>"
      ]
     },
     "metadata": {},
     "output_type": "display_data"
    }
   ],
   "source": [
    "# plot confusion matrix\n",
    "from sklearn.metrics import ConfusionMatrixDisplay\n",
    "ConfusionMatrixDisplay.from_estimator(knn_clf,X_test,y_test)"
   ]
  },
  {
   "cell_type": "markdown",
   "metadata": {},
   "source": [
    "The confusion matrix shows the model’s performance:\n",
    "\n",
    "- 83 True Negatives (TN): The model correctly predicted 83 non-diabetic patients.\n",
    "- 13 False Positives (FP): The model incorrectly predicted 13 non-diabetic patients as diabetic.\n",
    "- 29 False Negatives (FN): The model incorrectly predicted 29 diabetic patients as non-diabetic.\n",
    "- 29 True Positives (TP): The model correctly predicted 29 diabetic patients."
   ]
  },
  {
   "cell_type": "code",
   "execution_count": 20,
   "metadata": {},
   "outputs": [
    {
     "data": {
      "text/plain": [
       "array([[83, 13],\n",
       "       [29, 29]], dtype=int64)"
      ]
     },
     "execution_count": 20,
     "metadata": {},
     "output_type": "execute_result"
    }
   ],
   "source": [
    "# Generate the confusion matrix with just the numerical values\n",
    "from sklearn.metrics import confusion_matrix\n",
    "confusion_matrix(y_test,y_test_pred)"
   ]
  },
  {
   "cell_type": "markdown",
   "metadata": {},
   "source": [
    "### 2.3. Metrics computed from the confusion matrix"
   ]
  },
  {
   "cell_type": "markdown",
   "metadata": {},
   "source": [
    "Metrics like precision, recall, and F1-score are computed directly from the confusion matrix to provide deeper insights into model performance."
   ]
  },
  {
   "cell_type": "code",
   "execution_count": 21,
   "metadata": {},
   "outputs": [],
   "source": [
    "# Save the confusion matrix and extract its components\n",
    "confusion = confusion_matrix(y_test, y_test_pred)\n",
    "TP = confusion[1, 1]\n",
    "TN = confusion[0, 0]\n",
    "FP = confusion[0, 1]\n",
    "FN = confusion[1, 0]"
   ]
  },
  {
   "cell_type": "markdown",
   "metadata": {},
   "source": [
    "**Recall** measures how often the model correctly predicts positive cases (label \n",
    "1) when the actual value is positive. It answers the question: \"Out of all the actual positives, how many did the model correctly identify?\"\n",
    "\n",
    "The formula for recall is:\n",
    "\n",
    "$$\n",
    "\\text{Recall} = \\frac{TP}{TP + FN}\n",
    "$$"
   ]
  },
  {
   "cell_type": "code",
   "execution_count": 22,
   "metadata": {},
   "outputs": [
    {
     "data": {
      "text/plain": [
       "0.5"
      ]
     },
     "execution_count": 22,
     "metadata": {},
     "output_type": "execute_result"
    }
   ],
   "source": [
    "TP/(TP+FN)"
   ]
  },
  {
   "cell_type": "code",
   "execution_count": 26,
   "metadata": {},
   "outputs": [
    {
     "data": {
      "text/plain": [
       "0.5"
      ]
     },
     "execution_count": 26,
     "metadata": {},
     "output_type": "execute_result"
    }
   ],
   "source": [
    "# using sklearn\n",
    "from sklearn.metrics import recall_score\n",
    "recall_score(y_test,y_test_pred)"
   ]
  },
  {
   "cell_type": "markdown",
   "metadata": {},
   "source": [
    "**Precision** measures how often the model's positive predictions are correct. It answers the question: \"Out of all the predicted positives, how many were actually positive?\"\n",
    "\n",
    "The formula for precision is:\n",
    "\n",
    "$$\n",
    "\\text{Precision} = \\frac{TP}{TP + FP}\n",
    "$$"
   ]
  },
  {
   "cell_type": "code",
   "execution_count": 29,
   "metadata": {},
   "outputs": [
    {
     "data": {
      "text/plain": [
       "0.6904761904761905"
      ]
     },
     "execution_count": 29,
     "metadata": {},
     "output_type": "execute_result"
    }
   ],
   "source": [
    "TP/(TP+FP)"
   ]
  },
  {
   "cell_type": "code",
   "execution_count": 30,
   "metadata": {},
   "outputs": [
    {
     "data": {
      "text/plain": [
       "0.6904761904761905"
      ]
     },
     "execution_count": 30,
     "metadata": {},
     "output_type": "execute_result"
    }
   ],
   "source": [
    "# using sklearn\n",
    "from sklearn.metrics import precision_score\n",
    "precision_score(y_test,y_test_pred)"
   ]
  },
  {
   "cell_type": "markdown",
   "metadata": {},
   "source": [
    "**Recall vs Precision**: Which metric should you focus on? \n",
    "The choice of metric depends on the specific goal of your model.\n",
    "Here are some examples:\n",
    "- Spam filter (positive class = \"spam\"): Focus on precision because false negatives (spam in the inbox) are less harmful than false positives (legitimate emails marked as spam).\n",
    "- Fraud detection (positive class = \"fraud\"): Focus on recall (sensitivity) because missing a fraudulent transaction (false negative) is worse than flagging a legitimate one (false positive).\n"
   ]
  },
  {
   "cell_type": "markdown",
   "metadata": {},
   "source": [
    "**F1 Score**  \n",
    "The F1 score is the harmonic mean of precision and recall. \n",
    "It provides a balance between the two metrics and is particularly useful when you need a single measure that captures both false positives and false negatives.\n",
    "The F1 score is best used when the class distribution is imbalanced, and you need to weigh both precision and recall equally.\n",
    "\n",
    "The formula for the F1 score is:\n",
    "\n",
    "$$\n",
    "\\text{F1 Score} = 2 \\cdot \\frac{\\text{Precision} \\cdot \\text{Recall}}{\\text{Precision} + \\text{Recall}}\n",
    "$$"
   ]
  },
  {
   "cell_type": "code",
   "execution_count": 32,
   "metadata": {},
   "outputs": [
    {
     "data": {
      "text/plain": [
       "0.58"
      ]
     },
     "execution_count": 32,
     "metadata": {},
     "output_type": "execute_result"
    }
   ],
   "source": [
    "from sklearn.metrics import f1_score\n",
    "f1_score(y_test,y_test_pred)"
   ]
  },
  {
   "cell_type": "markdown",
   "metadata": {},
   "source": [
    "### 2.4. Imbalanced datasets (optional)"
   ]
  },
  {
   "cell_type": "markdown",
   "metadata": {},
   "source": [
    " An **imbalanced dataset** is one where the classes are not represented equally. For example, in a dataset where 90% of the instances belong to one class and only 10% to the other, the model might become biased towards predicting the majority class. This can make accuracy misleading, as it doesn’t capture the model’s ability to correctly predict the minority class.\n",
    "\n",
    "When dealing with imbalanced datasets, accuracy alone may not be enough to evaluate your model’s performance.\n",
    "Here is an evaluation metric that you can use to get a better understanding of how well your model is performing:"
   ]
  },
  {
   "cell_type": "markdown",
   "metadata": {},
   "source": [
    "**Balanced Accuracy**  \n",
    "Balanced accuracy is the average of recall calculated separately for each class, making it a useful metric when dealing with imbalanced datasets. It ensures that the performance of both classes (positive and negative) is equally considered, avoiding bias toward the majority class.\n",
    "\n",
    "The formula for balanced accuracy is:\n",
    "\n",
    "$$\n",
    "\\text{Balanced Accuracy} = \\frac{\\text{Recall for Class 0} + \\text{Recall for Class 1}}{2}\n",
    "$$"
   ]
  },
  {
   "cell_type": "code",
   "execution_count": 33,
   "metadata": {},
   "outputs": [
    {
     "data": {
      "text/plain": [
       "0.6822916666666667"
      ]
     },
     "execution_count": 33,
     "metadata": {},
     "output_type": "execute_result"
    }
   ],
   "source": [
    "from sklearn.metrics import balanced_accuracy_score\n",
    "balanced_accuracy_score(y_test,y_test_pred)"
   ]
  },
  {
   "cell_type": "markdown",
   "metadata": {},
   "source": [
    "## 3. Cross-validation"
   ]
  },
  {
   "cell_type": "markdown",
   "metadata": {},
   "source": [
    "Cross-validation is a more reliable way to evaluate your model compared to a simple train-test split. Why? Because with the train-test split, you're only testing the model on one part of the data. If that split isn’t representative, your results might not reflect how well the model actually performs."
   ]
  },
  {
   "cell_type": "markdown",
   "metadata": {},
   "source": [
    "With k-fold cross-validation, we split the data into $k$ equal parts (folds).\n",
    "The model is trained on $k-1$ folds and tested on the remaining one. \n",
    "This process is repeated $k$ times, with each fold getting a chance to be the test set. \n",
    "At the end, you average the results, giving you a more reliable estimate of how well the model will perform on unseen data.\n",
    "\n",
    "<td> <img src=\"cross_validation.png\" alt=\"Drawing\" style=\"width: 400px;\"/> </td>"
   ]
  },
  {
   "cell_type": "markdown",
   "metadata": {},
   "source": [
    "Here’s how to do it in scikit-learn.\n",
    "In this example, we use 5-fold cross-validation to get five different accuracy scores, and then we take the average to get a better sense of how the model performs overall."
   ]
  },
  {
   "cell_type": "code",
   "execution_count": 34,
   "metadata": {},
   "outputs": [
    {
     "data": {
      "text/plain": [
       "array([0.74675325, 0.72077922, 0.75974026, 0.78431373, 0.7124183 ])"
      ]
     },
     "execution_count": 34,
     "metadata": {},
     "output_type": "execute_result"
    }
   ],
   "source": [
    "from sklearn.model_selection import cross_val_score\n",
    "from sklearn.neighbors import KNeighborsClassifier\n",
    "\n",
    "# Perform 5-fold cross-validation\n",
    "scores = cross_val_score(knn_clf, X, y, cv=5)\n",
    "\n",
    "# Print the accuracy for each fold \n",
    "scores"
   ]
  },
  {
   "cell_type": "code",
   "execution_count": 35,
   "metadata": {},
   "outputs": [
    {
     "data": {
      "text/plain": [
       "0.7448009506833035"
      ]
     },
     "execution_count": 35,
     "metadata": {},
     "output_type": "execute_result"
    }
   ],
   "source": [
    "# and the average score\n",
    "scores.mean()"
   ]
  }
 ],
 "metadata": {
  "kernelspec": {
   "display_name": "Python 3 (ipykernel)",
   "language": "python",
   "name": "python3"
  },
  "language_info": {
   "codemirror_mode": {
    "name": "ipython",
    "version": 3
   },
   "file_extension": ".py",
   "mimetype": "text/x-python",
   "name": "python",
   "nbconvert_exporter": "python",
   "pygments_lexer": "ipython3",
   "version": "3.11.9"
  }
 },
 "nbformat": 4,
 "nbformat_minor": 4
}
