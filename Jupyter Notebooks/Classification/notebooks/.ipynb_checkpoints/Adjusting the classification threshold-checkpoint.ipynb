{
 "cells": [
  {
   "cell_type": "code",
   "execution_count": 21,
   "metadata": {},
   "outputs": [],
   "source": [
    "import pandas as pd\n",
    "import numpy as np\n",
    "import matplotlib.pyplot as plt"
   ]
  },
  {
   "cell_type": "markdown",
   "metadata": {},
   "source": [
    "# Changing the classification threshold"
   ]
  },
  {
   "cell_type": "markdown",
   "metadata": {},
   "source": [
    "In this notebook, we'll look at two new evaluation metrics: average precision and AUC score. They're a bit more advanced than the ones we've seen so far."
   ]
  },
  {
   "cell_type": "markdown",
   "metadata": {},
   "source": [
    "Let's start by importing a few functions we'll need."
   ]
  },
  {
   "cell_type": "code",
   "execution_count": 22,
   "metadata": {},
   "outputs": [],
   "source": [
    "from sklearn.metrics import accuracy_score, confusion_matrix, recall_score, precision_score"
   ]
  },
  {
   "cell_type": "code",
   "execution_count": 23,
   "metadata": {},
   "outputs": [],
   "source": [
    "from sklearn.linear_model import LogisticRegression\n",
    "from sklearn.model_selection import train_test_split"
   ]
  },
  {
   "cell_type": "markdown",
   "metadata": {},
   "source": [
    "- [Classification thresholds](#1.-Classification-thresholds)\n",
    "- [Precision/Recall Trade-off and Average Precision](#2.-Precision/Recall-Trade-off)\n",
    "- [ROC curve and AUC score](#3.-ROC-curve-and-AUC-score)"
   ]
  },
  {
   "cell_type": "markdown",
   "metadata": {},
   "source": [
    "## 1. Classification thresholds"
   ]
  },
  {
   "cell_type": "markdown",
   "metadata": {},
   "source": [
    "Let's load the Pima Indian dataset we've used before."
   ]
  },
  {
   "cell_type": "code",
   "execution_count": 24,
   "metadata": {},
   "outputs": [
    {
     "data": {
      "text/html": [
       "<div>\n",
       "<style scoped>\n",
       "    .dataframe tbody tr th:only-of-type {\n",
       "        vertical-align: middle;\n",
       "    }\n",
       "\n",
       "    .dataframe tbody tr th {\n",
       "        vertical-align: top;\n",
       "    }\n",
       "\n",
       "    .dataframe thead th {\n",
       "        text-align: right;\n",
       "    }\n",
       "</style>\n",
       "<table border=\"1\" class=\"dataframe\">\n",
       "  <thead>\n",
       "    <tr style=\"text-align: right;\">\n",
       "      <th></th>\n",
       "      <th>pregnant</th>\n",
       "      <th>glucose</th>\n",
       "      <th>bp</th>\n",
       "      <th>skin</th>\n",
       "      <th>insulin</th>\n",
       "      <th>bmi</th>\n",
       "      <th>pedigree</th>\n",
       "      <th>age</th>\n",
       "      <th>label</th>\n",
       "    </tr>\n",
       "  </thead>\n",
       "  <tbody>\n",
       "    <tr>\n",
       "      <th>0</th>\n",
       "      <td>6</td>\n",
       "      <td>148</td>\n",
       "      <td>72</td>\n",
       "      <td>35</td>\n",
       "      <td>0</td>\n",
       "      <td>33.6</td>\n",
       "      <td>0.627</td>\n",
       "      <td>50</td>\n",
       "      <td>1</td>\n",
       "    </tr>\n",
       "    <tr>\n",
       "      <th>1</th>\n",
       "      <td>1</td>\n",
       "      <td>85</td>\n",
       "      <td>66</td>\n",
       "      <td>29</td>\n",
       "      <td>0</td>\n",
       "      <td>26.6</td>\n",
       "      <td>0.351</td>\n",
       "      <td>31</td>\n",
       "      <td>0</td>\n",
       "    </tr>\n",
       "    <tr>\n",
       "      <th>2</th>\n",
       "      <td>8</td>\n",
       "      <td>183</td>\n",
       "      <td>64</td>\n",
       "      <td>0</td>\n",
       "      <td>0</td>\n",
       "      <td>23.3</td>\n",
       "      <td>0.672</td>\n",
       "      <td>32</td>\n",
       "      <td>1</td>\n",
       "    </tr>\n",
       "    <tr>\n",
       "      <th>3</th>\n",
       "      <td>1</td>\n",
       "      <td>89</td>\n",
       "      <td>66</td>\n",
       "      <td>23</td>\n",
       "      <td>94</td>\n",
       "      <td>28.1</td>\n",
       "      <td>0.167</td>\n",
       "      <td>21</td>\n",
       "      <td>0</td>\n",
       "    </tr>\n",
       "    <tr>\n",
       "      <th>4</th>\n",
       "      <td>0</td>\n",
       "      <td>137</td>\n",
       "      <td>40</td>\n",
       "      <td>35</td>\n",
       "      <td>168</td>\n",
       "      <td>43.1</td>\n",
       "      <td>2.288</td>\n",
       "      <td>33</td>\n",
       "      <td>1</td>\n",
       "    </tr>\n",
       "    <tr>\n",
       "      <th>...</th>\n",
       "      <td>...</td>\n",
       "      <td>...</td>\n",
       "      <td>...</td>\n",
       "      <td>...</td>\n",
       "      <td>...</td>\n",
       "      <td>...</td>\n",
       "      <td>...</td>\n",
       "      <td>...</td>\n",
       "      <td>...</td>\n",
       "    </tr>\n",
       "    <tr>\n",
       "      <th>763</th>\n",
       "      <td>10</td>\n",
       "      <td>101</td>\n",
       "      <td>76</td>\n",
       "      <td>48</td>\n",
       "      <td>180</td>\n",
       "      <td>32.9</td>\n",
       "      <td>0.171</td>\n",
       "      <td>63</td>\n",
       "      <td>0</td>\n",
       "    </tr>\n",
       "    <tr>\n",
       "      <th>764</th>\n",
       "      <td>2</td>\n",
       "      <td>122</td>\n",
       "      <td>70</td>\n",
       "      <td>27</td>\n",
       "      <td>0</td>\n",
       "      <td>36.8</td>\n",
       "      <td>0.340</td>\n",
       "      <td>27</td>\n",
       "      <td>0</td>\n",
       "    </tr>\n",
       "    <tr>\n",
       "      <th>765</th>\n",
       "      <td>5</td>\n",
       "      <td>121</td>\n",
       "      <td>72</td>\n",
       "      <td>23</td>\n",
       "      <td>112</td>\n",
       "      <td>26.2</td>\n",
       "      <td>0.245</td>\n",
       "      <td>30</td>\n",
       "      <td>0</td>\n",
       "    </tr>\n",
       "    <tr>\n",
       "      <th>766</th>\n",
       "      <td>1</td>\n",
       "      <td>126</td>\n",
       "      <td>60</td>\n",
       "      <td>0</td>\n",
       "      <td>0</td>\n",
       "      <td>30.1</td>\n",
       "      <td>0.349</td>\n",
       "      <td>47</td>\n",
       "      <td>1</td>\n",
       "    </tr>\n",
       "    <tr>\n",
       "      <th>767</th>\n",
       "      <td>1</td>\n",
       "      <td>93</td>\n",
       "      <td>70</td>\n",
       "      <td>31</td>\n",
       "      <td>0</td>\n",
       "      <td>30.4</td>\n",
       "      <td>0.315</td>\n",
       "      <td>23</td>\n",
       "      <td>0</td>\n",
       "    </tr>\n",
       "  </tbody>\n",
       "</table>\n",
       "<p>768 rows × 9 columns</p>\n",
       "</div>"
      ],
      "text/plain": [
       "     pregnant  glucose  bp  skin  insulin   bmi  pedigree  age  label\n",
       "0           6      148  72    35        0  33.6     0.627   50      1\n",
       "1           1       85  66    29        0  26.6     0.351   31      0\n",
       "2           8      183  64     0        0  23.3     0.672   32      1\n",
       "3           1       89  66    23       94  28.1     0.167   21      0\n",
       "4           0      137  40    35      168  43.1     2.288   33      1\n",
       "..        ...      ...  ..   ...      ...   ...       ...  ...    ...\n",
       "763        10      101  76    48      180  32.9     0.171   63      0\n",
       "764         2      122  70    27        0  36.8     0.340   27      0\n",
       "765         5      121  72    23      112  26.2     0.245   30      0\n",
       "766         1      126  60     0        0  30.1     0.349   47      1\n",
       "767         1       93  70    31        0  30.4     0.315   23      0\n",
       "\n",
       "[768 rows x 9 columns]"
      ]
     },
     "execution_count": 24,
     "metadata": {},
     "output_type": "execute_result"
    }
   ],
   "source": [
    "# load the pima indian dataset\n",
    "path = 'https://raw.githubusercontent.com/um-perez-alvaro/Data-Science-Practice/master/Data/pima.csv'\n",
    "df = pd.read_csv(path)\n",
    "df"
   ]
  },
  {
   "cell_type": "markdown",
   "metadata": {},
   "source": [
    "The goal is to predict whether a person has diabetes based on their health data."
   ]
  },
  {
   "cell_type": "code",
   "execution_count": 25,
   "metadata": {},
   "outputs": [
    {
     "data": {
      "text/html": [
       "<style>#sk-container-id-2 {\n",
       "  /* Definition of color scheme common for light and dark mode */\n",
       "  --sklearn-color-text: black;\n",
       "  --sklearn-color-line: gray;\n",
       "  /* Definition of color scheme for unfitted estimators */\n",
       "  --sklearn-color-unfitted-level-0: #fff5e6;\n",
       "  --sklearn-color-unfitted-level-1: #f6e4d2;\n",
       "  --sklearn-color-unfitted-level-2: #ffe0b3;\n",
       "  --sklearn-color-unfitted-level-3: chocolate;\n",
       "  /* Definition of color scheme for fitted estimators */\n",
       "  --sklearn-color-fitted-level-0: #f0f8ff;\n",
       "  --sklearn-color-fitted-level-1: #d4ebff;\n",
       "  --sklearn-color-fitted-level-2: #b3dbfd;\n",
       "  --sklearn-color-fitted-level-3: cornflowerblue;\n",
       "\n",
       "  /* Specific color for light theme */\n",
       "  --sklearn-color-text-on-default-background: var(--sg-text-color, var(--theme-code-foreground, var(--jp-content-font-color1, black)));\n",
       "  --sklearn-color-background: var(--sg-background-color, var(--theme-background, var(--jp-layout-color0, white)));\n",
       "  --sklearn-color-border-box: var(--sg-text-color, var(--theme-code-foreground, var(--jp-content-font-color1, black)));\n",
       "  --sklearn-color-icon: #696969;\n",
       "\n",
       "  @media (prefers-color-scheme: dark) {\n",
       "    /* Redefinition of color scheme for dark theme */\n",
       "    --sklearn-color-text-on-default-background: var(--sg-text-color, var(--theme-code-foreground, var(--jp-content-font-color1, white)));\n",
       "    --sklearn-color-background: var(--sg-background-color, var(--theme-background, var(--jp-layout-color0, #111)));\n",
       "    --sklearn-color-border-box: var(--sg-text-color, var(--theme-code-foreground, var(--jp-content-font-color1, white)));\n",
       "    --sklearn-color-icon: #878787;\n",
       "  }\n",
       "}\n",
       "\n",
       "#sk-container-id-2 {\n",
       "  color: var(--sklearn-color-text);\n",
       "}\n",
       "\n",
       "#sk-container-id-2 pre {\n",
       "  padding: 0;\n",
       "}\n",
       "\n",
       "#sk-container-id-2 input.sk-hidden--visually {\n",
       "  border: 0;\n",
       "  clip: rect(1px 1px 1px 1px);\n",
       "  clip: rect(1px, 1px, 1px, 1px);\n",
       "  height: 1px;\n",
       "  margin: -1px;\n",
       "  overflow: hidden;\n",
       "  padding: 0;\n",
       "  position: absolute;\n",
       "  width: 1px;\n",
       "}\n",
       "\n",
       "#sk-container-id-2 div.sk-dashed-wrapped {\n",
       "  border: 1px dashed var(--sklearn-color-line);\n",
       "  margin: 0 0.4em 0.5em 0.4em;\n",
       "  box-sizing: border-box;\n",
       "  padding-bottom: 0.4em;\n",
       "  background-color: var(--sklearn-color-background);\n",
       "}\n",
       "\n",
       "#sk-container-id-2 div.sk-container {\n",
       "  /* jupyter's `normalize.less` sets `[hidden] { display: none; }`\n",
       "     but bootstrap.min.css set `[hidden] { display: none !important; }`\n",
       "     so we also need the `!important` here to be able to override the\n",
       "     default hidden behavior on the sphinx rendered scikit-learn.org.\n",
       "     See: https://github.com/scikit-learn/scikit-learn/issues/21755 */\n",
       "  display: inline-block !important;\n",
       "  position: relative;\n",
       "}\n",
       "\n",
       "#sk-container-id-2 div.sk-text-repr-fallback {\n",
       "  display: none;\n",
       "}\n",
       "\n",
       "div.sk-parallel-item,\n",
       "div.sk-serial,\n",
       "div.sk-item {\n",
       "  /* draw centered vertical line to link estimators */\n",
       "  background-image: linear-gradient(var(--sklearn-color-text-on-default-background), var(--sklearn-color-text-on-default-background));\n",
       "  background-size: 2px 100%;\n",
       "  background-repeat: no-repeat;\n",
       "  background-position: center center;\n",
       "}\n",
       "\n",
       "/* Parallel-specific style estimator block */\n",
       "\n",
       "#sk-container-id-2 div.sk-parallel-item::after {\n",
       "  content: \"\";\n",
       "  width: 100%;\n",
       "  border-bottom: 2px solid var(--sklearn-color-text-on-default-background);\n",
       "  flex-grow: 1;\n",
       "}\n",
       "\n",
       "#sk-container-id-2 div.sk-parallel {\n",
       "  display: flex;\n",
       "  align-items: stretch;\n",
       "  justify-content: center;\n",
       "  background-color: var(--sklearn-color-background);\n",
       "  position: relative;\n",
       "}\n",
       "\n",
       "#sk-container-id-2 div.sk-parallel-item {\n",
       "  display: flex;\n",
       "  flex-direction: column;\n",
       "}\n",
       "\n",
       "#sk-container-id-2 div.sk-parallel-item:first-child::after {\n",
       "  align-self: flex-end;\n",
       "  width: 50%;\n",
       "}\n",
       "\n",
       "#sk-container-id-2 div.sk-parallel-item:last-child::after {\n",
       "  align-self: flex-start;\n",
       "  width: 50%;\n",
       "}\n",
       "\n",
       "#sk-container-id-2 div.sk-parallel-item:only-child::after {\n",
       "  width: 0;\n",
       "}\n",
       "\n",
       "/* Serial-specific style estimator block */\n",
       "\n",
       "#sk-container-id-2 div.sk-serial {\n",
       "  display: flex;\n",
       "  flex-direction: column;\n",
       "  align-items: center;\n",
       "  background-color: var(--sklearn-color-background);\n",
       "  padding-right: 1em;\n",
       "  padding-left: 1em;\n",
       "}\n",
       "\n",
       "\n",
       "/* Toggleable style: style used for estimator/Pipeline/ColumnTransformer box that is\n",
       "clickable and can be expanded/collapsed.\n",
       "- Pipeline and ColumnTransformer use this feature and define the default style\n",
       "- Estimators will overwrite some part of the style using the `sk-estimator` class\n",
       "*/\n",
       "\n",
       "/* Pipeline and ColumnTransformer style (default) */\n",
       "\n",
       "#sk-container-id-2 div.sk-toggleable {\n",
       "  /* Default theme specific background. It is overwritten whether we have a\n",
       "  specific estimator or a Pipeline/ColumnTransformer */\n",
       "  background-color: var(--sklearn-color-background);\n",
       "}\n",
       "\n",
       "/* Toggleable label */\n",
       "#sk-container-id-2 label.sk-toggleable__label {\n",
       "  cursor: pointer;\n",
       "  display: block;\n",
       "  width: 100%;\n",
       "  margin-bottom: 0;\n",
       "  padding: 0.5em;\n",
       "  box-sizing: border-box;\n",
       "  text-align: center;\n",
       "}\n",
       "\n",
       "#sk-container-id-2 label.sk-toggleable__label-arrow:before {\n",
       "  /* Arrow on the left of the label */\n",
       "  content: \"▸\";\n",
       "  float: left;\n",
       "  margin-right: 0.25em;\n",
       "  color: var(--sklearn-color-icon);\n",
       "}\n",
       "\n",
       "#sk-container-id-2 label.sk-toggleable__label-arrow:hover:before {\n",
       "  color: var(--sklearn-color-text);\n",
       "}\n",
       "\n",
       "/* Toggleable content - dropdown */\n",
       "\n",
       "#sk-container-id-2 div.sk-toggleable__content {\n",
       "  max-height: 0;\n",
       "  max-width: 0;\n",
       "  overflow: hidden;\n",
       "  text-align: left;\n",
       "  /* unfitted */\n",
       "  background-color: var(--sklearn-color-unfitted-level-0);\n",
       "}\n",
       "\n",
       "#sk-container-id-2 div.sk-toggleable__content.fitted {\n",
       "  /* fitted */\n",
       "  background-color: var(--sklearn-color-fitted-level-0);\n",
       "}\n",
       "\n",
       "#sk-container-id-2 div.sk-toggleable__content pre {\n",
       "  margin: 0.2em;\n",
       "  border-radius: 0.25em;\n",
       "  color: var(--sklearn-color-text);\n",
       "  /* unfitted */\n",
       "  background-color: var(--sklearn-color-unfitted-level-0);\n",
       "}\n",
       "\n",
       "#sk-container-id-2 div.sk-toggleable__content.fitted pre {\n",
       "  /* unfitted */\n",
       "  background-color: var(--sklearn-color-fitted-level-0);\n",
       "}\n",
       "\n",
       "#sk-container-id-2 input.sk-toggleable__control:checked~div.sk-toggleable__content {\n",
       "  /* Expand drop-down */\n",
       "  max-height: 200px;\n",
       "  max-width: 100%;\n",
       "  overflow: auto;\n",
       "}\n",
       "\n",
       "#sk-container-id-2 input.sk-toggleable__control:checked~label.sk-toggleable__label-arrow:before {\n",
       "  content: \"▾\";\n",
       "}\n",
       "\n",
       "/* Pipeline/ColumnTransformer-specific style */\n",
       "\n",
       "#sk-container-id-2 div.sk-label input.sk-toggleable__control:checked~label.sk-toggleable__label {\n",
       "  color: var(--sklearn-color-text);\n",
       "  background-color: var(--sklearn-color-unfitted-level-2);\n",
       "}\n",
       "\n",
       "#sk-container-id-2 div.sk-label.fitted input.sk-toggleable__control:checked~label.sk-toggleable__label {\n",
       "  background-color: var(--sklearn-color-fitted-level-2);\n",
       "}\n",
       "\n",
       "/* Estimator-specific style */\n",
       "\n",
       "/* Colorize estimator box */\n",
       "#sk-container-id-2 div.sk-estimator input.sk-toggleable__control:checked~label.sk-toggleable__label {\n",
       "  /* unfitted */\n",
       "  background-color: var(--sklearn-color-unfitted-level-2);\n",
       "}\n",
       "\n",
       "#sk-container-id-2 div.sk-estimator.fitted input.sk-toggleable__control:checked~label.sk-toggleable__label {\n",
       "  /* fitted */\n",
       "  background-color: var(--sklearn-color-fitted-level-2);\n",
       "}\n",
       "\n",
       "#sk-container-id-2 div.sk-label label.sk-toggleable__label,\n",
       "#sk-container-id-2 div.sk-label label {\n",
       "  /* The background is the default theme color */\n",
       "  color: var(--sklearn-color-text-on-default-background);\n",
       "}\n",
       "\n",
       "/* On hover, darken the color of the background */\n",
       "#sk-container-id-2 div.sk-label:hover label.sk-toggleable__label {\n",
       "  color: var(--sklearn-color-text);\n",
       "  background-color: var(--sklearn-color-unfitted-level-2);\n",
       "}\n",
       "\n",
       "/* Label box, darken color on hover, fitted */\n",
       "#sk-container-id-2 div.sk-label.fitted:hover label.sk-toggleable__label.fitted {\n",
       "  color: var(--sklearn-color-text);\n",
       "  background-color: var(--sklearn-color-fitted-level-2);\n",
       "}\n",
       "\n",
       "/* Estimator label */\n",
       "\n",
       "#sk-container-id-2 div.sk-label label {\n",
       "  font-family: monospace;\n",
       "  font-weight: bold;\n",
       "  display: inline-block;\n",
       "  line-height: 1.2em;\n",
       "}\n",
       "\n",
       "#sk-container-id-2 div.sk-label-container {\n",
       "  text-align: center;\n",
       "}\n",
       "\n",
       "/* Estimator-specific */\n",
       "#sk-container-id-2 div.sk-estimator {\n",
       "  font-family: monospace;\n",
       "  border: 1px dotted var(--sklearn-color-border-box);\n",
       "  border-radius: 0.25em;\n",
       "  box-sizing: border-box;\n",
       "  margin-bottom: 0.5em;\n",
       "  /* unfitted */\n",
       "  background-color: var(--sklearn-color-unfitted-level-0);\n",
       "}\n",
       "\n",
       "#sk-container-id-2 div.sk-estimator.fitted {\n",
       "  /* fitted */\n",
       "  background-color: var(--sklearn-color-fitted-level-0);\n",
       "}\n",
       "\n",
       "/* on hover */\n",
       "#sk-container-id-2 div.sk-estimator:hover {\n",
       "  /* unfitted */\n",
       "  background-color: var(--sklearn-color-unfitted-level-2);\n",
       "}\n",
       "\n",
       "#sk-container-id-2 div.sk-estimator.fitted:hover {\n",
       "  /* fitted */\n",
       "  background-color: var(--sklearn-color-fitted-level-2);\n",
       "}\n",
       "\n",
       "/* Specification for estimator info (e.g. \"i\" and \"?\") */\n",
       "\n",
       "/* Common style for \"i\" and \"?\" */\n",
       "\n",
       ".sk-estimator-doc-link,\n",
       "a:link.sk-estimator-doc-link,\n",
       "a:visited.sk-estimator-doc-link {\n",
       "  float: right;\n",
       "  font-size: smaller;\n",
       "  line-height: 1em;\n",
       "  font-family: monospace;\n",
       "  background-color: var(--sklearn-color-background);\n",
       "  border-radius: 1em;\n",
       "  height: 1em;\n",
       "  width: 1em;\n",
       "  text-decoration: none !important;\n",
       "  margin-left: 1ex;\n",
       "  /* unfitted */\n",
       "  border: var(--sklearn-color-unfitted-level-1) 1pt solid;\n",
       "  color: var(--sklearn-color-unfitted-level-1);\n",
       "}\n",
       "\n",
       ".sk-estimator-doc-link.fitted,\n",
       "a:link.sk-estimator-doc-link.fitted,\n",
       "a:visited.sk-estimator-doc-link.fitted {\n",
       "  /* fitted */\n",
       "  border: var(--sklearn-color-fitted-level-1) 1pt solid;\n",
       "  color: var(--sklearn-color-fitted-level-1);\n",
       "}\n",
       "\n",
       "/* On hover */\n",
       "div.sk-estimator:hover .sk-estimator-doc-link:hover,\n",
       ".sk-estimator-doc-link:hover,\n",
       "div.sk-label-container:hover .sk-estimator-doc-link:hover,\n",
       ".sk-estimator-doc-link:hover {\n",
       "  /* unfitted */\n",
       "  background-color: var(--sklearn-color-unfitted-level-3);\n",
       "  color: var(--sklearn-color-background);\n",
       "  text-decoration: none;\n",
       "}\n",
       "\n",
       "div.sk-estimator.fitted:hover .sk-estimator-doc-link.fitted:hover,\n",
       ".sk-estimator-doc-link.fitted:hover,\n",
       "div.sk-label-container:hover .sk-estimator-doc-link.fitted:hover,\n",
       ".sk-estimator-doc-link.fitted:hover {\n",
       "  /* fitted */\n",
       "  background-color: var(--sklearn-color-fitted-level-3);\n",
       "  color: var(--sklearn-color-background);\n",
       "  text-decoration: none;\n",
       "}\n",
       "\n",
       "/* Span, style for the box shown on hovering the info icon */\n",
       ".sk-estimator-doc-link span {\n",
       "  display: none;\n",
       "  z-index: 9999;\n",
       "  position: relative;\n",
       "  font-weight: normal;\n",
       "  right: .2ex;\n",
       "  padding: .5ex;\n",
       "  margin: .5ex;\n",
       "  width: min-content;\n",
       "  min-width: 20ex;\n",
       "  max-width: 50ex;\n",
       "  color: var(--sklearn-color-text);\n",
       "  box-shadow: 2pt 2pt 4pt #999;\n",
       "  /* unfitted */\n",
       "  background: var(--sklearn-color-unfitted-level-0);\n",
       "  border: .5pt solid var(--sklearn-color-unfitted-level-3);\n",
       "}\n",
       "\n",
       ".sk-estimator-doc-link.fitted span {\n",
       "  /* fitted */\n",
       "  background: var(--sklearn-color-fitted-level-0);\n",
       "  border: var(--sklearn-color-fitted-level-3);\n",
       "}\n",
       "\n",
       ".sk-estimator-doc-link:hover span {\n",
       "  display: block;\n",
       "}\n",
       "\n",
       "/* \"?\"-specific style due to the `<a>` HTML tag */\n",
       "\n",
       "#sk-container-id-2 a.estimator_doc_link {\n",
       "  float: right;\n",
       "  font-size: 1rem;\n",
       "  line-height: 1em;\n",
       "  font-family: monospace;\n",
       "  background-color: var(--sklearn-color-background);\n",
       "  border-radius: 1rem;\n",
       "  height: 1rem;\n",
       "  width: 1rem;\n",
       "  text-decoration: none;\n",
       "  /* unfitted */\n",
       "  color: var(--sklearn-color-unfitted-level-1);\n",
       "  border: var(--sklearn-color-unfitted-level-1) 1pt solid;\n",
       "}\n",
       "\n",
       "#sk-container-id-2 a.estimator_doc_link.fitted {\n",
       "  /* fitted */\n",
       "  border: var(--sklearn-color-fitted-level-1) 1pt solid;\n",
       "  color: var(--sklearn-color-fitted-level-1);\n",
       "}\n",
       "\n",
       "/* On hover */\n",
       "#sk-container-id-2 a.estimator_doc_link:hover {\n",
       "  /* unfitted */\n",
       "  background-color: var(--sklearn-color-unfitted-level-3);\n",
       "  color: var(--sklearn-color-background);\n",
       "  text-decoration: none;\n",
       "}\n",
       "\n",
       "#sk-container-id-2 a.estimator_doc_link.fitted:hover {\n",
       "  /* fitted */\n",
       "  background-color: var(--sklearn-color-fitted-level-3);\n",
       "}\n",
       "</style><div id=\"sk-container-id-2\" class=\"sk-top-container\"><div class=\"sk-text-repr-fallback\"><pre>LogisticRegression(max_iter=1000)</pre><b>In a Jupyter environment, please rerun this cell to show the HTML representation or trust the notebook. <br />On GitHub, the HTML representation is unable to render, please try loading this page with nbviewer.org.</b></div><div class=\"sk-container\" hidden><div class=\"sk-item\"><div class=\"sk-estimator fitted sk-toggleable\"><input class=\"sk-toggleable__control sk-hidden--visually\" id=\"sk-estimator-id-2\" type=\"checkbox\" checked><label for=\"sk-estimator-id-2\" class=\"sk-toggleable__label fitted sk-toggleable__label-arrow fitted\">&nbsp;&nbsp;LogisticRegression<a class=\"sk-estimator-doc-link fitted\" rel=\"noreferrer\" target=\"_blank\" href=\"https://scikit-learn.org/1.5/modules/generated/sklearn.linear_model.LogisticRegression.html\">?<span>Documentation for LogisticRegression</span></a><span class=\"sk-estimator-doc-link fitted\">i<span>Fitted</span></span></label><div class=\"sk-toggleable__content fitted\"><pre>LogisticRegression(max_iter=1000)</pre></div> </div></div></div></div>"
      ],
      "text/plain": [
       "LogisticRegression(max_iter=1000)"
      ]
     },
     "execution_count": 25,
     "metadata": {},
     "output_type": "execute_result"
    }
   ],
   "source": [
    "# define feature matrix X and target vector y\n",
    "X = df.drop('label',axis=1)\n",
    "y = df.label\n",
    "\n",
    "# train/test split\n",
    "X_train,X_test,y_train,y_test = train_test_split(X,y)\n",
    "\n",
    "# instantiate the logistic regression classifier\n",
    "logreg_clf = LogisticRegression(max_iter=1000)\n",
    "\n",
    "# train the model\n",
    "logreg_clf.fit(X_train,y_train)"
   ]
  },
  {
   "cell_type": "markdown",
   "metadata": {},
   "source": [
    "Let's see how the classifier makes predictions. For each patient, logistic regression calculates the probability of having or not having diabetes. We can get these probabilities using the `.predict_proba` method."
   ]
  },
  {
   "cell_type": "markdown",
   "metadata": {},
   "source": [
    "The first column shows the probability for label 0, and the second column shows the probability for label 1."
   ]
  },
  {
   "cell_type": "code",
   "execution_count": 26,
   "metadata": {},
   "outputs": [
    {
     "data": {
      "text/plain": [
       "array([[0.877414  , 0.122586  ],\n",
       "       [0.97798037, 0.02201963],\n",
       "       [0.91088424, 0.08911576],\n",
       "       [0.47312817, 0.52687183],\n",
       "       [0.80667981, 0.19332019],\n",
       "       [0.867431  , 0.132569  ],\n",
       "       [0.55969536, 0.44030464],\n",
       "       [0.93716966, 0.06283034],\n",
       "       [0.6944269 , 0.3055731 ],\n",
       "       [0.68100254, 0.31899746],\n",
       "       [0.57042773, 0.42957227],\n",
       "       [0.49480434, 0.50519566],\n",
       "       [0.47488019, 0.52511981],\n",
       "       [0.68172237, 0.31827763],\n",
       "       [0.23452572, 0.76547428],\n",
       "       [0.91070804, 0.08929196],\n",
       "       [0.9151961 , 0.0848039 ],\n",
       "       [0.68748198, 0.31251802],\n",
       "       [0.73320402, 0.26679598],\n",
       "       [0.64559611, 0.35440389],\n",
       "       [0.71520671, 0.28479329],\n",
       "       [0.9016097 , 0.0983903 ],\n",
       "       [0.90747549, 0.09252451],\n",
       "       [0.76895259, 0.23104741],\n",
       "       [0.79662915, 0.20337085],\n",
       "       [0.73659739, 0.26340261],\n",
       "       [0.84360628, 0.15639372],\n",
       "       [0.74215376, 0.25784624],\n",
       "       [0.03741518, 0.96258482],\n",
       "       [0.93353119, 0.06646881],\n",
       "       [0.27137207, 0.72862793],\n",
       "       [0.18942641, 0.81057359],\n",
       "       [0.30037052, 0.69962948],\n",
       "       [0.89718005, 0.10281995],\n",
       "       [0.98018769, 0.01981231],\n",
       "       [0.33507753, 0.66492247],\n",
       "       [0.84391648, 0.15608352],\n",
       "       [0.92413359, 0.07586641],\n",
       "       [0.98393716, 0.01606284],\n",
       "       [0.24708486, 0.75291514],\n",
       "       [0.94599586, 0.05400414],\n",
       "       [0.82395901, 0.17604099],\n",
       "       [0.31919665, 0.68080335],\n",
       "       [0.6387604 , 0.3612396 ],\n",
       "       [0.2425092 , 0.7574908 ],\n",
       "       [0.0400816 , 0.9599184 ],\n",
       "       [0.48353346, 0.51646654],\n",
       "       [0.67768078, 0.32231922],\n",
       "       [0.95758178, 0.04241822],\n",
       "       [0.59314263, 0.40685737],\n",
       "       [0.58462733, 0.41537267],\n",
       "       [0.9101351 , 0.0898649 ],\n",
       "       [0.88796929, 0.11203071],\n",
       "       [0.95427717, 0.04572283],\n",
       "       [0.91828272, 0.08171728],\n",
       "       [0.05375446, 0.94624554],\n",
       "       [0.24343701, 0.75656299],\n",
       "       [0.83692164, 0.16307836],\n",
       "       [0.97587701, 0.02412299],\n",
       "       [0.96287257, 0.03712743],\n",
       "       [0.64038474, 0.35961526],\n",
       "       [0.97914175, 0.02085825],\n",
       "       [0.21800518, 0.78199482],\n",
       "       [0.36058014, 0.63941986],\n",
       "       [0.21012213, 0.78987787],\n",
       "       [0.87494512, 0.12505488],\n",
       "       [0.38922747, 0.61077253],\n",
       "       [0.94642173, 0.05357827],\n",
       "       [0.96459893, 0.03540107],\n",
       "       [0.86768026, 0.13231974],\n",
       "       [0.7308289 , 0.2691711 ],\n",
       "       [0.53877119, 0.46122881],\n",
       "       [0.7627038 , 0.2372962 ],\n",
       "       [0.94078377, 0.05921623],\n",
       "       [0.76523405, 0.23476595],\n",
       "       [0.69777837, 0.30222163],\n",
       "       [0.96883849, 0.03116151],\n",
       "       [0.03857218, 0.96142782],\n",
       "       [0.71094218, 0.28905782],\n",
       "       [0.95128936, 0.04871064],\n",
       "       [0.63547894, 0.36452106],\n",
       "       [0.54275947, 0.45724053],\n",
       "       [0.6543118 , 0.3456882 ],\n",
       "       [0.78997443, 0.21002557],\n",
       "       [0.67158817, 0.32841183],\n",
       "       [0.72307763, 0.27692237],\n",
       "       [0.87402935, 0.12597065],\n",
       "       [0.29201415, 0.70798585],\n",
       "       [0.34341028, 0.65658972],\n",
       "       [0.96666662, 0.03333338],\n",
       "       [0.78606288, 0.21393712],\n",
       "       [0.87924996, 0.12075004],\n",
       "       [0.55503409, 0.44496591],\n",
       "       [0.96474594, 0.03525406],\n",
       "       [0.55529578, 0.44470422],\n",
       "       [0.15942878, 0.84057122],\n",
       "       [0.22542831, 0.77457169],\n",
       "       [0.16450977, 0.83549023],\n",
       "       [0.29397518, 0.70602482],\n",
       "       [0.76714359, 0.23285641],\n",
       "       [0.10901128, 0.89098872],\n",
       "       [0.55784649, 0.44215351],\n",
       "       [0.42446444, 0.57553556],\n",
       "       [0.85056687, 0.14943313],\n",
       "       [0.50320992, 0.49679008],\n",
       "       [0.26771437, 0.73228563],\n",
       "       [0.15677019, 0.84322981],\n",
       "       [0.88119104, 0.11880896],\n",
       "       [0.91811501, 0.08188499],\n",
       "       [0.94993497, 0.05006503],\n",
       "       [0.95100637, 0.04899363],\n",
       "       [0.92892804, 0.07107196],\n",
       "       [0.7462819 , 0.2537181 ],\n",
       "       [0.83952708, 0.16047292],\n",
       "       [0.86321171, 0.13678829],\n",
       "       [0.49043343, 0.50956657],\n",
       "       [0.12464917, 0.87535083],\n",
       "       [0.83510494, 0.16489506],\n",
       "       [0.79045454, 0.20954546],\n",
       "       [0.80832318, 0.19167682],\n",
       "       [0.72778859, 0.27221141],\n",
       "       [0.5710537 , 0.4289463 ],\n",
       "       [0.92350376, 0.07649624],\n",
       "       [0.5803715 , 0.4196285 ],\n",
       "       [0.65171949, 0.34828051],\n",
       "       [0.62428891, 0.37571109],\n",
       "       [0.12134721, 0.87865279],\n",
       "       [0.95578405, 0.04421595],\n",
       "       [0.60324198, 0.39675802],\n",
       "       [0.79236607, 0.20763393],\n",
       "       [0.82026203, 0.17973797],\n",
       "       [0.982131  , 0.017869  ],\n",
       "       [0.2224973 , 0.7775027 ],\n",
       "       [0.49592506, 0.50407494],\n",
       "       [0.45678198, 0.54321802],\n",
       "       [0.08423581, 0.91576419],\n",
       "       [0.87597641, 0.12402359],\n",
       "       [0.62814596, 0.37185404],\n",
       "       [0.68515422, 0.31484578],\n",
       "       [0.96500107, 0.03499893],\n",
       "       [0.87970741, 0.12029259],\n",
       "       [0.19254603, 0.80745397],\n",
       "       [0.95205779, 0.04794221],\n",
       "       [0.36609839, 0.63390161],\n",
       "       [0.92298228, 0.07701772],\n",
       "       [0.78624867, 0.21375133],\n",
       "       [0.76325961, 0.23674039],\n",
       "       [0.13396503, 0.86603497],\n",
       "       [0.6322922 , 0.3677078 ],\n",
       "       [0.63505662, 0.36494338],\n",
       "       [0.63939956, 0.36060044],\n",
       "       [0.60186146, 0.39813854],\n",
       "       [0.13955498, 0.86044502],\n",
       "       [0.15577802, 0.84422198],\n",
       "       [0.63928916, 0.36071084],\n",
       "       [0.88117433, 0.11882567],\n",
       "       [0.95210325, 0.04789675],\n",
       "       [0.75380527, 0.24619473],\n",
       "       [0.08963369, 0.91036631],\n",
       "       [0.72385322, 0.27614678],\n",
       "       [0.34594116, 0.65405884],\n",
       "       [0.5268047 , 0.4731953 ],\n",
       "       [0.66296246, 0.33703754],\n",
       "       [0.38515034, 0.61484966],\n",
       "       [0.869038  , 0.130962  ],\n",
       "       [0.17589802, 0.82410198],\n",
       "       [0.93278754, 0.06721246],\n",
       "       [0.73251628, 0.26748372],\n",
       "       [0.81702545, 0.18297455],\n",
       "       [0.99090332, 0.00909668],\n",
       "       [0.03643228, 0.96356772],\n",
       "       [0.22248832, 0.77751168],\n",
       "       [0.86556455, 0.13443545],\n",
       "       [0.31101318, 0.68898682],\n",
       "       [0.91191068, 0.08808932],\n",
       "       [0.91741796, 0.08258204],\n",
       "       [0.93732443, 0.06267557],\n",
       "       [0.08595203, 0.91404797],\n",
       "       [0.75232476, 0.24767524],\n",
       "       [0.87680481, 0.12319519],\n",
       "       [0.60265055, 0.39734945],\n",
       "       [0.99173326, 0.00826674],\n",
       "       [0.68443751, 0.31556249],\n",
       "       [0.05949995, 0.94050005],\n",
       "       [0.74205274, 0.25794726],\n",
       "       [0.04519462, 0.95480538],\n",
       "       [0.67402274, 0.32597726],\n",
       "       [0.8406498 , 0.1593502 ],\n",
       "       [0.9131034 , 0.0868966 ],\n",
       "       [0.9611834 , 0.0388166 ],\n",
       "       [0.32962622, 0.67037378],\n",
       "       [0.15597595, 0.84402405]])"
      ]
     },
     "execution_count": 26,
     "metadata": {},
     "output_type": "execute_result"
    }
   ],
   "source": [
    "logreg_clf.predict_proba(X_test)"
   ]
  },
  {
   "cell_type": "markdown",
   "metadata": {},
   "source": [
    "The second column gives the probability that the person has diabetes (label 1). By default, the logistic regression model converts these probabilities into predictions by assigning label 1 if the probability is 0.5 or higher, and label 0 otherwise."
   ]
  },
  {
   "cell_type": "code",
   "execution_count": 27,
   "metadata": {},
   "outputs": [
    {
     "data": {
      "text/plain": [
       "array([0.122586  , 0.02201963, 0.08911576, 0.52687183, 0.19332019,\n",
       "       0.132569  , 0.44030464, 0.06283034, 0.3055731 , 0.31899746,\n",
       "       0.42957227, 0.50519566, 0.52511981, 0.31827763, 0.76547428,\n",
       "       0.08929196, 0.0848039 , 0.31251802, 0.26679598, 0.35440389,\n",
       "       0.28479329, 0.0983903 , 0.09252451, 0.23104741, 0.20337085,\n",
       "       0.26340261, 0.15639372, 0.25784624, 0.96258482, 0.06646881,\n",
       "       0.72862793, 0.81057359, 0.69962948, 0.10281995, 0.01981231,\n",
       "       0.66492247, 0.15608352, 0.07586641, 0.01606284, 0.75291514,\n",
       "       0.05400414, 0.17604099, 0.68080335, 0.3612396 , 0.7574908 ,\n",
       "       0.9599184 , 0.51646654, 0.32231922, 0.04241822, 0.40685737,\n",
       "       0.41537267, 0.0898649 , 0.11203071, 0.04572283, 0.08171728,\n",
       "       0.94624554, 0.75656299, 0.16307836, 0.02412299, 0.03712743,\n",
       "       0.35961526, 0.02085825, 0.78199482, 0.63941986, 0.78987787,\n",
       "       0.12505488, 0.61077253, 0.05357827, 0.03540107, 0.13231974,\n",
       "       0.2691711 , 0.46122881, 0.2372962 , 0.05921623, 0.23476595,\n",
       "       0.30222163, 0.03116151, 0.96142782, 0.28905782, 0.04871064,\n",
       "       0.36452106, 0.45724053, 0.3456882 , 0.21002557, 0.32841183,\n",
       "       0.27692237, 0.12597065, 0.70798585, 0.65658972, 0.03333338,\n",
       "       0.21393712, 0.12075004, 0.44496591, 0.03525406, 0.44470422,\n",
       "       0.84057122, 0.77457169, 0.83549023, 0.70602482, 0.23285641,\n",
       "       0.89098872, 0.44215351, 0.57553556, 0.14943313, 0.49679008,\n",
       "       0.73228563, 0.84322981, 0.11880896, 0.08188499, 0.05006503,\n",
       "       0.04899363, 0.07107196, 0.2537181 , 0.16047292, 0.13678829,\n",
       "       0.50956657, 0.87535083, 0.16489506, 0.20954546, 0.19167682,\n",
       "       0.27221141, 0.4289463 , 0.07649624, 0.4196285 , 0.34828051,\n",
       "       0.37571109, 0.87865279, 0.04421595, 0.39675802, 0.20763393,\n",
       "       0.17973797, 0.017869  , 0.7775027 , 0.50407494, 0.54321802,\n",
       "       0.91576419, 0.12402359, 0.37185404, 0.31484578, 0.03499893,\n",
       "       0.12029259, 0.80745397, 0.04794221, 0.63390161, 0.07701772,\n",
       "       0.21375133, 0.23674039, 0.86603497, 0.3677078 , 0.36494338,\n",
       "       0.36060044, 0.39813854, 0.86044502, 0.84422198, 0.36071084,\n",
       "       0.11882567, 0.04789675, 0.24619473, 0.91036631, 0.27614678,\n",
       "       0.65405884, 0.4731953 , 0.33703754, 0.61484966, 0.130962  ,\n",
       "       0.82410198, 0.06721246, 0.26748372, 0.18297455, 0.00909668,\n",
       "       0.96356772, 0.77751168, 0.13443545, 0.68898682, 0.08808932,\n",
       "       0.08258204, 0.06267557, 0.91404797, 0.24767524, 0.12319519,\n",
       "       0.39734945, 0.00826674, 0.31556249, 0.94050005, 0.25794726,\n",
       "       0.95480538, 0.32597726, 0.1593502 , 0.0868966 , 0.0388166 ,\n",
       "       0.67037378, 0.84402405])"
      ]
     },
     "execution_count": 27,
     "metadata": {},
     "output_type": "execute_result"
    }
   ],
   "source": [
    "# probability of label = 1 (diabetes)\n",
    "proba = logreg_clf.predict_proba(X_test)[:,1]\n",
    "proba"
   ]
  },
  {
   "cell_type": "code",
   "execution_count": 28,
   "metadata": {},
   "outputs": [
    {
     "data": {
      "text/plain": [
       "array([0, 0, 0, 1, 0, 0, 0, 0, 0, 0, 0, 1, 1, 0, 1, 0, 0, 0, 0, 0, 0, 0,\n",
       "       0, 0, 0, 0, 0, 0, 1, 0, 1, 1, 1, 0, 0, 1, 0, 0, 0, 1, 0, 0, 1, 0,\n",
       "       1, 1, 1, 0, 0, 0, 0, 0, 0, 0, 0, 1, 1, 0, 0, 0, 0, 0, 1, 1, 1, 0,\n",
       "       1, 0, 0, 0, 0, 0, 0, 0, 0, 0, 0, 1, 0, 0, 0, 0, 0, 0, 0, 0, 0, 1,\n",
       "       1, 0, 0, 0, 0, 0, 0, 1, 1, 1, 1, 0, 1, 0, 1, 0, 0, 1, 1, 0, 0, 0,\n",
       "       0, 0, 0, 0, 0, 1, 1, 0, 0, 0, 0, 0, 0, 0, 0, 0, 1, 0, 0, 0, 0, 0,\n",
       "       1, 1, 1, 1, 0, 0, 0, 0, 0, 1, 0, 1, 0, 0, 0, 1, 0, 0, 0, 0, 1, 1,\n",
       "       0, 0, 0, 0, 1, 0, 1, 0, 0, 1, 0, 1, 0, 0, 0, 0, 1, 1, 0, 1, 0, 0,\n",
       "       0, 1, 0, 0, 0, 0, 0, 1, 0, 1, 0, 0, 0, 0, 1, 1], dtype=int64)"
      ]
     },
     "execution_count": 28,
     "metadata": {},
     "output_type": "execute_result"
    }
   ],
   "source": [
    "# sklearn predictions uses threshold = 0.5\n",
    "y_test_pred = logreg_clf.predict(X_test)\n",
    "y_test_pred"
   ]
  },
  {
   "cell_type": "code",
   "execution_count": 29,
   "metadata": {},
   "outputs": [
    {
     "name": "stdout",
     "output_type": "stream",
     "text": [
      "0.8072916666666666\n",
      "0.6451612903225806\n",
      "0.7272727272727273\n"
     ]
    }
   ],
   "source": [
    "print(accuracy_score(y_test,y_test_pred))\n",
    "print(recall_score(y_test,y_test_pred))\n",
    "print(precision_score(y_test,y_test_pred))"
   ]
  },
  {
   "cell_type": "markdown",
   "metadata": {},
   "source": [
    "In other words, scikit-learn uses 0.5 as the default threshold, but why not try another value? Scikit-learn doesn't let you set the threshold directly, so we have to do it manually."
   ]
  },
  {
   "cell_type": "code",
   "execution_count": 30,
   "metadata": {},
   "outputs": [
    {
     "data": {
      "text/plain": [
       "array([0., 0., 0., 1., 0., 0., 1., 0., 1., 1., 1., 1., 1., 1., 1., 0., 0.,\n",
       "       1., 0., 1., 0., 0., 0., 0., 0., 0., 0., 0., 1., 0., 1., 1., 1., 0.,\n",
       "       0., 1., 0., 0., 0., 1., 0., 0., 1., 1., 1., 1., 1., 1., 0., 1., 1.,\n",
       "       0., 0., 0., 0., 1., 1., 0., 0., 0., 1., 0., 1., 1., 1., 0., 1., 0.,\n",
       "       0., 0., 0., 1., 0., 0., 0., 1., 0., 1., 0., 0., 1., 1., 1., 0., 1.,\n",
       "       0., 0., 1., 1., 0., 0., 0., 1., 0., 1., 1., 1., 1., 1., 0., 1., 1.,\n",
       "       1., 0., 1., 1., 1., 0., 0., 0., 0., 0., 0., 0., 0., 1., 1., 0., 0.,\n",
       "       0., 0., 1., 0., 1., 1., 1., 1., 0., 1., 0., 0., 0., 1., 1., 1., 1.,\n",
       "       0., 1., 1., 0., 0., 1., 0., 1., 0., 0., 0., 1., 1., 1., 1., 1., 1.,\n",
       "       1., 1., 0., 0., 0., 1., 0., 1., 1., 1., 1., 0., 1., 0., 0., 0., 0.,\n",
       "       1., 1., 0., 1., 0., 0., 0., 1., 0., 0., 1., 0., 1., 1., 0., 1., 1.,\n",
       "       0., 0., 0., 1., 1.])"
      ]
     },
     "execution_count": 30,
     "metadata": {},
     "output_type": "execute_result"
    }
   ],
   "source": [
    "# Predictions with a different threshold\n",
    "threshold = 0.3 # Set new threshold\n",
    "y_test_pred = np.zeros(len(y_test)) # Create a vector of all zeros\n",
    "y_test_pred[proba > threshold] = 1 # Set to 1 if probability is greater than the threshold\n",
    "y_test_pred"
   ]
  },
  {
   "cell_type": "code",
   "execution_count": 31,
   "metadata": {},
   "outputs": [
    {
     "name": "stdout",
     "output_type": "stream",
     "text": [
      "0.7291666666666666\n",
      "0.8387096774193549\n",
      "0.5531914893617021\n"
     ]
    }
   ],
   "source": [
    "# All evaluation metrics will change\n",
    "print(accuracy_score(y_test,y_test_pred))\n",
    "print(recall_score(y_test,y_test_pred))\n",
    "print(precision_score(y_test,y_test_pred))"
   ]
  },
  {
   "cell_type": "markdown",
   "metadata": {},
   "source": [
    "We can loop through different thresholds and see which one gives the best evaluation metric (accuracy, recall, precision, etc.). But before we do that, think about what might happen to recall and precision as we change the threshold from 0 to 1."
   ]
  },
  {
   "cell_type": "code",
   "execution_count": 32,
   "metadata": {},
   "outputs": [
    {
     "data": {
      "text/plain": [
       "array([0.        , 0.01010101, 0.02020202, 0.03030303, 0.04040404,\n",
       "       0.05050505, 0.06060606, 0.07070707, 0.08080808, 0.09090909,\n",
       "       0.1010101 , 0.11111111, 0.12121212, 0.13131313, 0.14141414,\n",
       "       0.15151515, 0.16161616, 0.17171717, 0.18181818, 0.19191919,\n",
       "       0.2020202 , 0.21212121, 0.22222222, 0.23232323, 0.24242424,\n",
       "       0.25252525, 0.26262626, 0.27272727, 0.28282828, 0.29292929,\n",
       "       0.3030303 , 0.31313131, 0.32323232, 0.33333333, 0.34343434,\n",
       "       0.35353535, 0.36363636, 0.37373737, 0.38383838, 0.39393939,\n",
       "       0.4040404 , 0.41414141, 0.42424242, 0.43434343, 0.44444444,\n",
       "       0.45454545, 0.46464646, 0.47474747, 0.48484848, 0.49494949,\n",
       "       0.50505051, 0.51515152, 0.52525253, 0.53535354, 0.54545455,\n",
       "       0.55555556, 0.56565657, 0.57575758, 0.58585859, 0.5959596 ,\n",
       "       0.60606061, 0.61616162, 0.62626263, 0.63636364, 0.64646465,\n",
       "       0.65656566, 0.66666667, 0.67676768, 0.68686869, 0.6969697 ,\n",
       "       0.70707071, 0.71717172, 0.72727273, 0.73737374, 0.74747475,\n",
       "       0.75757576, 0.76767677, 0.77777778, 0.78787879, 0.7979798 ,\n",
       "       0.80808081, 0.81818182, 0.82828283, 0.83838384, 0.84848485,\n",
       "       0.85858586, 0.86868687, 0.87878788, 0.88888889, 0.8989899 ,\n",
       "       0.90909091, 0.91919192, 0.92929293, 0.93939394, 0.94949495,\n",
       "       0.95959596, 0.96969697, 0.97979798, 0.98989899, 1.        ])"
      ]
     },
     "execution_count": 32,
     "metadata": {},
     "output_type": "execute_result"
    }
   ],
   "source": [
    "# Create an array of different thresholds\n",
    "thresholds = np.linspace(0, 1, 100) # 100 evenly spaced points between 0 and 1\n",
    "thresholds"
   ]
  },
  {
   "cell_type": "code",
   "execution_count": 33,
   "metadata": {},
   "outputs": [
    {
     "name": "stderr",
     "output_type": "stream",
     "text": [
      "C:\\Users\\javier.perez-alvaro\\AppData\\Local\\anaconda3\\Lib\\site-packages\\sklearn\\metrics\\_classification.py:1531: UndefinedMetricWarning: Precision is ill-defined and being set to 0.0 due to no predicted samples. Use `zero_division` parameter to control this behavior.\n",
      "  _warn_prf(average, modifier, f\"{metric.capitalize()} is\", len(result))\n",
      "C:\\Users\\javier.perez-alvaro\\AppData\\Local\\anaconda3\\Lib\\site-packages\\sklearn\\metrics\\_classification.py:1531: UndefinedMetricWarning: Precision is ill-defined and being set to 0.0 due to no predicted samples. Use `zero_division` parameter to control this behavior.\n",
      "  _warn_prf(average, modifier, f\"{metric.capitalize()} is\", len(result))\n",
      "C:\\Users\\javier.perez-alvaro\\AppData\\Local\\anaconda3\\Lib\\site-packages\\sklearn\\metrics\\_classification.py:1531: UndefinedMetricWarning: Precision is ill-defined and being set to 0.0 due to no predicted samples. Use `zero_division` parameter to control this behavior.\n",
      "  _warn_prf(average, modifier, f\"{metric.capitalize()} is\", len(result))\n",
      "C:\\Users\\javier.perez-alvaro\\AppData\\Local\\anaconda3\\Lib\\site-packages\\sklearn\\metrics\\_classification.py:1531: UndefinedMetricWarning: Precision is ill-defined and being set to 0.0 due to no predicted samples. Use `zero_division` parameter to control this behavior.\n",
      "  _warn_prf(average, modifier, f\"{metric.capitalize()} is\", len(result))\n"
     ]
    }
   ],
   "source": [
    "accuracies = []\n",
    "recalls = []\n",
    "precisions = []\n",
    "# Loop over the thresholds\n",
    "for threshold in thresholds:\n",
    "    y_test_pred = np.zeros(len(y_test)) # vector of all zeros\n",
    "    y_test_pred[proba > threshold]=1\n",
    "    # accuracy\n",
    "    accuracies.append(accuracy_score(y_test,y_test_pred))\n",
    "    # recall\n",
    "    recalls.append(recall_score(y_test,y_test_pred))\n",
    "    # precision\n",
    "    precisions.append(precision_score(y_test,y_test_pred))"
   ]
  },
  {
   "cell_type": "code",
   "execution_count": 34,
   "metadata": {},
   "outputs": [
    {
     "data": {
      "text/plain": [
       "<matplotlib.legend.Legend at 0x1dee5c22f50>"
      ]
     },
     "execution_count": 34,
     "metadata": {},
     "output_type": "execute_result"
    },
    {
     "data": {
      "image/png": "[encoded data removed]",
      "text/plain": [
       "<Figure size 1500x500 with 1 Axes>"
      ]
     },
     "metadata": {},
     "output_type": "display_data"
    }
   ],
   "source": [
    "fig, axes = plt.subplots(figsize=(15,5))\n",
    "\n",
    "axes.plot(thresholds,accuracies,label='accuracy')\n",
    "axes.plot(thresholds,recalls,label='recall')\n",
    "axes.plot(thresholds,precisions,label='precision')\n",
    "\n",
    "axes.grid(True)\n",
    "axes.set_title('Evaluation metrics as a function of the threshold')\n",
    "axes.legend()\n"
   ]
  },
  {
   "cell_type": "markdown",
   "metadata": {},
   "source": [
    "As we lower the threshold, recall initially remains high but starts to drop around 0.4, while precision improves. Accuracy shows a steady increase at first but flattens around the middle and slightly declines at higher thresholds. The interaction between recall and precision is clear: lowering the threshold improves recall but reduces precision, and vice versa."
   ]
  },
  {
   "cell_type": "markdown",
   "metadata": {},
   "source": [
    "## 2. Precision/Recall Trade-off"
   ]
  },
  {
   "cell_type": "markdown",
   "metadata": {},
   "source": [
    "The precision-recall curve shows the tradeoff between precision and recall at different thresholds. A high area under the curve means both high recall and high precision. High precision means fewer false positives, while high recall means fewer false negatives. A good balance of both means the classifier is returning accurate results (high precision) and capturing most of the positive cases (high recall)."
   ]
  },
  {
   "cell_type": "code",
   "execution_count": 35,
   "metadata": {},
   "outputs": [
    {
     "data": {
      "text/plain": [
       "Text(0, 0.5, 'precision')"
      ]
     },
     "execution_count": 35,
     "metadata": {},
     "output_type": "execute_result"
    },
    {
     "data": {
      "image/png": "[encoded data removed]",
      "text/plain": [
       "<Figure size 1000x700 with 1 Axes>"
      ]
     },
     "metadata": {},
     "output_type": "display_data"
    }
   ],
   "source": [
    "# precision vs recall curve\n",
    "fig, ax = plt.subplots(figsize=(10,7))\n",
    "ax.plot(recalls,precisions)\n",
    "ax.grid(True)\n",
    "ax.set_xlabel('recall')\n",
    "ax.set_ylabel('precision')"
   ]
  },
  {
   "cell_type": "markdown",
   "metadata": {},
   "source": [
    "This precision-recall curve shows the tradeoff between precision and recall for different thresholds. \n",
    "At low recall values, precision is high, meaning fewer false positives, but as recall increases, precision gradually drops.\n",
    "This is a common pattern where increasing recall comes at the cost of precision.\n",
    "The curve's shape indicates how well the classifier balances identifying positive cases (recall) while minimizing false positives (precision). In this case, the precision stays relatively high up to a recall of about 0.5, then starts to decline."
   ]
  },
  {
   "cell_type": "markdown",
   "metadata": {},
   "source": [
    "For an **ideal classifier**, the precision-recall curve would stay at precision = 1 across all recall values until recall reaches 1. This means it perfectly identifies all positives with no false positives or negatives, showing a straight line at the top of the plot."
   ]
  },
  {
   "cell_type": "markdown",
   "metadata": {},
   "source": [
    "For a really **bad classifier**, the precision-recall curve would look like random guessing. Both precision and recall would be low, and the curve would stay near the baseline. In the worst case, it would quickly drop toward 0, showing poor performance in identifying positives and avoiding false positives."
   ]
  },
  {
   "cell_type": "markdown",
   "metadata": {},
   "source": [
    "We don't have to do all of this manually (building the threshold vector, looping over thresholds, etc.). Scikit-learn has built-in tools for this, like `PrecisionRecallDisplay`."
   ]
  },
  {
   "cell_type": "code",
   "execution_count": 36,
   "metadata": {
    "scrolled": true
   },
   "outputs": [
    {
     "data": {
      "image/png": "[encoded data removed]",
      "text/plain": [
       "<Figure size 1000x700 with 1 Axes>"
      ]
     },
     "metadata": {},
     "output_type": "display_data"
    }
   ],
   "source": [
    "from sklearn.metrics import PrecisionRecallDisplay\n",
    "# to plot the precision-recall curve, you should use PrecisionRecallDisplay\n",
    "fig, ax = plt.subplots(figsize=(10,7))\n",
    "PrecisionRecallDisplay.from_estimator(logreg_clf,X_test,y_test,ax=ax)\n",
    "ax.grid(True)"
   ]
  },
  {
   "cell_type": "markdown",
   "metadata": {},
   "source": [
    "The plot also shows the AP value, which stands for \"average precision\" and represents the area under the precision-recall curve. It's an important metric for evaluating model performance. We can calculate it without showing the precision-recall plot."
   ]
  },
  {
   "cell_type": "code",
   "execution_count": 37,
   "metadata": {},
   "outputs": [
    {
     "data": {
      "text/plain": [
       "0.7488339048210506"
      ]
     },
     "execution_count": 37,
     "metadata": {},
     "output_type": "execute_result"
    }
   ],
   "source": [
    "from sklearn.metrics import average_precision_score\n",
    "average_precision_score(y_test,proba)"
   ]
  },
  {
   "cell_type": "markdown",
   "metadata": {},
   "source": [
    "## ROC curve and AUC score"
   ]
  },
  {
   "cell_type": "markdown",
   "metadata": {},
   "source": [
    "ROC stands for \"Receiver Operating Characteristic\".\n",
    "It was originally created to evaluate radar detectors during WWII and now helps assess how well a model separates two classes.\n",
    "\n",
    "The ROC curve is based on two key metrics:\n",
    "\n",
    "- **False Positive Rate (FPR):** The fraction of false positives out of all negative examples.\n",
    "- **True Positive Rate (TPR):** The fraction of true positives out of all positive examples.\n",
    "\n",
    "These values come from the confusion matrix, similar to precision and recall.\n",
    "$$\n",
    "\\mathrm{FPR} = \\frac{\\mathrm{FP}}{\\mathrm{FP} + \\mathrm{TN}} \\quad \\text{and} \\quad \\mathrm{TPR} = \\frac{\\mathrm{TP}}{\\mathrm{TP} + \\mathrm{FN}}\n",
    "$$"
   ]
  },
  {
   "cell_type": "markdown",
   "metadata": {},
   "source": [
    "To create a ROC curve, we plot FPR against TPR."
   ]
  },
  {
   "cell_type": "code",
   "execution_count": 38,
   "metadata": {},
   "outputs": [],
   "source": [
    "from sklearn.metrics import RocCurveDisplay"
   ]
  },
  {
   "cell_type": "code",
   "execution_count": 39,
   "metadata": {},
   "outputs": [
    {
     "data": {
      "text/plain": [
       "<sklearn.metrics._plot.roc_curve.RocCurveDisplay at 0x1dee5e1d050>"
      ]
     },
     "execution_count": 39,
     "metadata": {},
     "output_type": "execute_result"
    },
    {
     "data": {
      "image/png": "[encoded data removed]",
      "text/plain": [
       "<Figure size 640x480 with 1 Axes>"
      ]
     },
     "metadata": {},
     "output_type": "display_data"
    }
   ],
   "source": [
    "RocCurveDisplay.from_estimator(logreg_clf,X_test,y_test)"
   ]
  },
  {
   "cell_type": "markdown",
   "metadata": {},
   "source": [
    "The plot also displays the AUC score, which stands for 'Area Under the Curve' of the ROC curve"
   ]
  },
  {
   "cell_type": "markdown",
   "metadata": {},
   "source": [
    "If we only need the AUC score, there's no need to compute the entire ROC curve first. We can simply use the `roc_auc_score` function from Scikit-learn."
   ]
  },
  {
   "cell_type": "code",
   "execution_count": 40,
   "metadata": {},
   "outputs": [
    {
     "data": {
      "text/plain": [
       "0.8624069478908188"
      ]
     },
     "execution_count": 40,
     "metadata": {},
     "output_type": "execute_result"
    }
   ],
   "source": [
    "from sklearn.metrics import roc_auc_score\n",
    "roc_auc_score(y_test,proba)"
   ]
  },
  {
   "cell_type": "markdown",
   "metadata": {},
   "source": [
    "The AUC score helps evaluate how well a model distinguishes between the two classes. \n",
    "Here's a general guide for interpreting AUC scores:"
   ]
  },
  {
   "cell_type": "markdown",
   "metadata": {},
   "source": [
    "\r\n",
    "\r\n",
    "| AUC Score | Model Performance |\r\n",
    "| - | - |\r\n",
    "| 0.5 | Random (no better than guessing) |\r\n",
    "| 0.6 | Poor |\r\n",
    "| 0.7 | Weak |\r\n",
    "| 0.8 | Decent |\r\n",
    "| 0.9 | Good |\r",
    "Perfect |andomly.\""
   ]
  },
  {
   "cell_type": "markdown",
   "metadata": {},
   "source": [
    "A higher AUC score indicates better model performance, with 1.0 representing a perfect classifier and 0.5 meaning the model is guessing randomly."
   ]
  },
  {
   "cell_type": "markdown",
   "metadata": {},
   "source": [
    "## Setting the classification threshold in scikit learn"
   ]
  },
  {
   "cell_type": "code",
   "execution_count": 45,
   "metadata": {},
   "outputs": [],
   "source": [
    "from sklearn.model_selection import FixedThresholdClassifier\n",
    "from sklearn.metrics import confusion_matrix"
   ]
  },
  {
   "cell_type": "code",
   "execution_count": 51,
   "metadata": {
    "scrolled": true
   },
   "outputs": [
    {
     "data": {
      "text/plain": [
       "array([[122,   8],\n",
       "       [ 34,  28]], dtype=int64)"
      ]
     },
     "execution_count": 51,
     "metadata": {},
     "output_type": "execute_result"
    }
   ],
   "source": [
    "logreg_clf_other_threshold = FixedThresholdClassifier(logreg_clf,\n",
    "                                                     threshold=0.7)\n",
    "\n",
    "logreg_clf_other_threshold.fit(X_train,y_train)\n",
    "y_test_pred = logreg_clf_other_threshold.predict(X_test)\n",
    "confusion_matrix(y_test,y_test_pred)"
   ]
  }
 ],
 "metadata": {
  "kernelspec": {
   "display_name": "Python 3 (ipykernel)",
   "language": "python",
   "name": "python3"
  },
  "language_info": {
   "codemirror_mode": {
    "name": "ipython",
    "version": 3
   },
   "file_extension": ".py",
   "mimetype": "text/x-python",
   "name": "python",
   "nbconvert_exporter": "python",
   "pygments_lexer": "ipython3",
   "version": "3.11.9"
  }
 },
 "nbformat": 4,
 "nbformat_minor": 4
}
