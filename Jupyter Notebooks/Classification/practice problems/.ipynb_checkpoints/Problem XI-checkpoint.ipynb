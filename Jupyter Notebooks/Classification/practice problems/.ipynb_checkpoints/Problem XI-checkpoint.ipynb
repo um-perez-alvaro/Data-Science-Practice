{
 "cells": [
  {
   "cell_type": "code",
   "execution_count": 165,
   "metadata": {},
   "outputs": [],
   "source": [
    "import pandas as pd\n",
    "import matplotlib.pyplot as plt\n",
    "import numpy as np"
   ]
  },
  {
   "cell_type": "markdown",
   "metadata": {},
   "source": [
    "# Bird baths in Australia"
   ]
  },
  {
   "cell_type": "code",
   "execution_count": 215,
   "metadata": {},
   "outputs": [
    {
     "data": {
      "text/html": [
       "<div>\n",
       "<style scoped>\n",
       "    .dataframe tbody tr th:only-of-type {\n",
       "        vertical-align: middle;\n",
       "    }\n",
       "\n",
       "    .dataframe tbody tr th {\n",
       "        vertical-align: top;\n",
       "    }\n",
       "\n",
       "    .dataframe thead th {\n",
       "        text-align: right;\n",
       "    }\n",
       "</style>\n",
       "<table border=\"1\" class=\"dataframe\">\n",
       "  <thead>\n",
       "    <tr style=\"text-align: right;\">\n",
       "      <th></th>\n",
       "      <th>survey_year</th>\n",
       "      <th>urban_rural</th>\n",
       "      <th>bioregions</th>\n",
       "      <th>bird_type</th>\n",
       "      <th>bird_count</th>\n",
       "    </tr>\n",
       "  </thead>\n",
       "  <tbody>\n",
       "    <tr>\n",
       "      <th>0</th>\n",
       "      <td>2014.0</td>\n",
       "      <td>Urban</td>\n",
       "      <td>South Eastern Queensland</td>\n",
       "      <td>Bassian Thrush</td>\n",
       "      <td>0</td>\n",
       "    </tr>\n",
       "    <tr>\n",
       "      <th>1</th>\n",
       "      <td>2014.0</td>\n",
       "      <td>Urban</td>\n",
       "      <td>South Eastern Queensland</td>\n",
       "      <td>Chestnut-breasted Mannikin</td>\n",
       "      <td>0</td>\n",
       "    </tr>\n",
       "    <tr>\n",
       "      <th>2</th>\n",
       "      <td>2014.0</td>\n",
       "      <td>Urban</td>\n",
       "      <td>South Eastern Queensland</td>\n",
       "      <td>Wild Duck</td>\n",
       "      <td>0</td>\n",
       "    </tr>\n",
       "    <tr>\n",
       "      <th>3</th>\n",
       "      <td>2014.0</td>\n",
       "      <td>Urban</td>\n",
       "      <td>South Eastern Queensland</td>\n",
       "      <td>Willie Wagtail</td>\n",
       "      <td>0</td>\n",
       "    </tr>\n",
       "    <tr>\n",
       "      <th>4</th>\n",
       "      <td>2014.0</td>\n",
       "      <td>Urban</td>\n",
       "      <td>South Eastern Queensland</td>\n",
       "      <td>Regent Bowerbird</td>\n",
       "      <td>0</td>\n",
       "    </tr>\n",
       "  </tbody>\n",
       "</table>\n",
       "</div>"
      ],
      "text/plain": [
       "   survey_year urban_rural                bioregions  \\\n",
       "0       2014.0       Urban  South Eastern Queensland   \n",
       "1       2014.0       Urban  South Eastern Queensland   \n",
       "2       2014.0       Urban  South Eastern Queensland   \n",
       "3       2014.0       Urban  South Eastern Queensland   \n",
       "4       2014.0       Urban  South Eastern Queensland   \n",
       "\n",
       "                    bird_type  bird_count  \n",
       "0              Bassian Thrush           0  \n",
       "1  Chestnut-breasted Mannikin           0  \n",
       "2                   Wild Duck           0  \n",
       "3              Willie Wagtail           0  \n",
       "4            Regent Bowerbird           0  "
      ]
     },
     "execution_count": 215,
     "metadata": {},
     "output_type": "execute_result"
    }
   ],
   "source": [
    "# load the data\n",
    "url = 'https://raw.githubusercontent.com/rfordatascience/tidytuesday/master/data/2021/2021-08-31/bird_baths.csv'\n",
    "birds = pd.read_csv(url)\n",
    "birds.head()"
   ]
  },
  {
   "cell_type": "markdown",
   "metadata": {},
   "source": [
    "Our **goal** is to predict the probability of whether we’ll see a bird at a bird bath in Australia, given info like what kind of bird we’re looking for and whether the bird bath is in an urban or rural location."
   ]
  },
  {
   "cell_type": "markdown",
   "metadata": {},
   "source": [
    "We'll focus on birds from the following list."
   ]
  },
  {
   "cell_type": "code",
   "execution_count": 218,
   "metadata": {},
   "outputs": [],
   "source": [
    "birds_list = [\n",
    "    'Noisy Miner',\n",
    "    'Australian Magpie',\n",
    "    'Rainbow Lorikeet',\n",
    "    'Red Wattlebird',\n",
    "    'Superb Fairy-wren',\n",
    "    'Magpie-lark',\n",
    "    'Pied Currawong',\n",
    "    'Crimson Rosella',\n",
    "    'Eastern Spinebill',\n",
    "    'Spotted Dove',\n",
    "    \"Lewin's Honeyeater\",\n",
    "    'Satin Bowerbird',\n",
    "    'Crested Pigeon',\n",
    "    'Grey Fantail',\n",
    "    'Red-browed Finch',\n",
    "]"
   ]
  },
  {
   "cell_type": "markdown",
   "metadata": {},
   "source": [
    "**Part 1:** Filter out the bird types that are not on the `birds_list` list."
   ]
  },
  {
   "cell_type": "code",
   "execution_count": 219,
   "metadata": {},
   "outputs": [],
   "source": [
    "# your code here\n"
   ]
  },
  {
   "cell_type": "markdown",
   "metadata": {},
   "source": [
    "**Part 2:** Add a `bird` column to the DataFrame, where the value is `1` when `bird_count>0`, and `0` when `bird_count=0`."
   ]
  },
  {
   "cell_type": "code",
   "execution_count": 311,
   "metadata": {},
   "outputs": [],
   "source": [
    "# your code here\n"
   ]
  },
  {
   "cell_type": "markdown",
   "metadata": {},
   "source": [
    "Drop the `bird_count` column"
   ]
  },
  {
   "cell_type": "code",
   "execution_count": 312,
   "metadata": {},
   "outputs": [],
   "source": [
    "# your code here\n"
   ]
  },
  {
   "cell_type": "markdown",
   "metadata": {},
   "source": [
    "**Part 3:** How likely are you to see birds of different types (Australian Magpie, Crested Pigeon,...) in different locations (rural, urban)?\n",
    "\n",
    "**Hint**: use `pd.pivot_table`."
   ]
  },
  {
   "cell_type": "code",
   "execution_count": null,
   "metadata": {},
   "outputs": [],
   "source": [
    "# your code here\n",
    "probability = birds.pivot_table()"
   ]
  },
  {
   "cell_type": "code",
   "execution_count": 268,
   "metadata": {},
   "outputs": [
    {
     "data": {
      "image/png": "[encoded data removed]",
      "text/plain": [
       "<Figure size 1080x360 with 1 Axes>"
      ]
     },
     "metadata": {
      "needs_background": "light"
     },
     "output_type": "display_data"
    }
   ],
   "source": [
    "# run this cell to plot probabilities\n",
    "fig, ax = plt.subplots(figsize=(15,5))\n",
    "ax.plot(probability.Rural,'o',markersize='10', label='Rural')\n",
    "ax.plot(probability.Urban,'o',markersize='10', label='Urban')\n",
    "ax.grid(True)\n",
    "plt.xticks(rotation=90, fontsize=15)\n",
    "plt.yticks(fontsize=15)\n",
    "fig.legend(fontsize=15)\n",
    "plt.show()"
   ]
  },
  {
   "cell_type": "markdown",
   "metadata": {},
   "source": [
    "We'll use the `urban_rural`, `bird_type` and `bioregions` features to predict these probabilities."
   ]
  },
  {
   "cell_type": "markdown",
   "metadata": {},
   "source": [
    "**Part 4:** Define the feature matrix X (columns `urban_rural`, `bird_type` and `bioregions`) and the target vector y (`bird` column) from the dataframe, and then split X and y into training and testing sets."
   ]
  },
  {
   "cell_type": "code",
   "execution_count": 269,
   "metadata": {},
   "outputs": [],
   "source": [
    "# your code here\n"
   ]
  },
  {
   "cell_type": "code",
   "execution_count": 270,
   "metadata": {},
   "outputs": [],
   "source": []
  },
  {
   "cell_type": "markdown",
   "metadata": {},
   "source": [
    "**Part 5:** build a pipeline with the following steps: an imputer, a one-hot-encoder, and a logistic regression model."
   ]
  },
  {
   "cell_type": "code",
   "execution_count": 294,
   "metadata": {},
   "outputs": [],
   "source": [
    "# your code here\n"
   ]
  },
  {
   "cell_type": "code",
   "execution_count": null,
   "metadata": {},
   "outputs": [],
   "source": []
  },
  {
   "cell_type": "markdown",
   "metadata": {},
   "source": [
    "Fit your pipeline to the training data"
   ]
  },
  {
   "cell_type": "code",
   "execution_count": 307,
   "metadata": {},
   "outputs": [],
   "source": [
    "# your code here\n"
   ]
  },
  {
   "cell_type": "markdown",
   "metadata": {},
   "source": [
    "Use the `predict_proba` method to compute the seeing-a-bird probability on the testing data."
   ]
  },
  {
   "cell_type": "code",
   "execution_count": 308,
   "metadata": {},
   "outputs": [],
   "source": [
    "# your code here\n"
   ]
  },
  {
   "cell_type": "markdown",
   "metadata": {},
   "source": [
    "Run the following two cells."
   ]
  },
  {
   "cell_type": "code",
   "execution_count": 309,
   "metadata": {},
   "outputs": [],
   "source": [
    "# this cell creates a dataframe with the computed probabilities\n",
    "results = X_test.copy()\n",
    "results['proba'] = y_test_proba\n",
    "results"
   ]
  },
  {
   "cell_type": "code",
   "execution_count": null,
   "metadata": {},
   "outputs": [],
   "source": [
    "# this cell plots the observed and computed probabilities\n",
    "probability_test = pd.pivot_table(data=results, values='proba', index='bird_type', columns='urban_rural', aggfunc = 'mean')\n",
    "\n",
    "fig, ax = plt.subplots(2,1,figsize=(15,10),sharex=True)\n",
    "\n",
    "ax[0].plot(probability.Rural,'o',markersize='10', label='Rural')\n",
    "ax[0].plot(probability.Urban,'o',markersize='10', label='Urban')\n",
    "ax[0].grid(True)\n",
    "ax[0].set_title('observed probabilities', fontsize=20)\n",
    "\n",
    "ax[1].plot(probability_test.Rural,'o',markersize='10')\n",
    "ax[1].plot(probability_test.Urban,'o',markersize='10')\n",
    "ax[1].grid(True)\n",
    "ax[1].set_title('predicted probabilities', fontsize=20)\n",
    "plt.xticks(fontsize=15,rotation=90)\n",
    "plt.yticks(fontsize=15)\n",
    "fig.legend(fontsize=15)\n",
    "plt.show()"
   ]
  },
  {
   "cell_type": "markdown",
   "metadata": {},
   "source": [
    "The predicted probabilities don't look great. "
   ]
  },
  {
   "cell_type": "markdown",
   "metadata": {},
   "source": [
    "**Part 6:** Add polynomial features (of degree 2) to your pipeline, and repeat **Part 5**"
   ]
  },
  {
   "cell_type": "code",
   "execution_count": 310,
   "metadata": {},
   "outputs": [],
   "source": [
    "# your code here\n"
   ]
  },
  {
   "cell_type": "code",
   "execution_count": null,
   "metadata": {},
   "outputs": [],
   "source": []
  }
 ],
 "metadata": {
  "kernelspec": {
   "display_name": "Python 3 (ipykernel)",
   "language": "python",
   "name": "python3"
  },
  "language_info": {
   "codemirror_mode": {
    "name": "ipython",
    "version": 3
   },
   "file_extension": ".py",
   "mimetype": "text/x-python",
   "name": "python",
   "nbconvert_exporter": "python",
   "pygments_lexer": "ipython3",
   "version": "3.9.17"
  }
 },
 "nbformat": 4,
 "nbformat_minor": 4
}
