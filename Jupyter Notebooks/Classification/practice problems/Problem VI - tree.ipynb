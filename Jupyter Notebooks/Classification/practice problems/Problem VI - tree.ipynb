{
 "cells": [
  {
   "cell_type": "code",
   "execution_count": 1,
   "metadata": {},
   "outputs": [],
   "source": [
    "import pandas as pd\n",
    "import matplotlib.pyplot as plt"
   ]
  },
  {
   "cell_type": "markdown",
   "metadata": {},
   "source": [
    "# Scooby Doo monsters"
   ]
  },
  {
   "cell_type": "markdown",
   "metadata": {},
   "source": [
    "The [Scooby-Doo](https://en.wikipedia.org/wiki/Scooby-Doo) cartoon series featured teenagers Fred Jones, Daphne Blake, Velma Dinkley, and Shaggy Rogers, and their talking Great Dane named Scooby-Doo, who solve mysteries involving supposedly supernatural creatures through a series of antics and missteps."
   ]
  },
  {
   "cell_type": "markdown",
   "metadata": {},
   "source": [
    "![Scooby-Doo](scoobydoo.png)"
   ]
  },
  {
   "cell_type": "code",
   "execution_count": 5,
   "metadata": {},
   "outputs": [
    {
     "data": {
      "text/html": [
       "<div>\n",
       "<style scoped>\n",
       "    .dataframe tbody tr th:only-of-type {\n",
       "        vertical-align: middle;\n",
       "    }\n",
       "\n",
       "    .dataframe tbody tr th {\n",
       "        vertical-align: top;\n",
       "    }\n",
       "\n",
       "    .dataframe thead th {\n",
       "        text-align: right;\n",
       "    }\n",
       "</style>\n",
       "<table border=\"1\" class=\"dataframe\">\n",
       "  <thead>\n",
       "    <tr style=\"text-align: right;\">\n",
       "      <th></th>\n",
       "      <th>series_name</th>\n",
       "      <th>network</th>\n",
       "      <th>season</th>\n",
       "      <th>title</th>\n",
       "      <th>imdb</th>\n",
       "      <th>engagement</th>\n",
       "      <th>date_aired</th>\n",
       "      <th>run_time</th>\n",
       "      <th>format</th>\n",
       "      <th>monster_name</th>\n",
       "      <th>...</th>\n",
       "      <th>batman</th>\n",
       "      <th>scooby_dum</th>\n",
       "      <th>scrappy_doo</th>\n",
       "      <th>hex_girls</th>\n",
       "      <th>blue_falcon</th>\n",
       "      <th>fred_va</th>\n",
       "      <th>daphnie_va</th>\n",
       "      <th>velma_va</th>\n",
       "      <th>shaggy_va</th>\n",
       "      <th>scooby_va</th>\n",
       "    </tr>\n",
       "  </thead>\n",
       "  <tbody>\n",
       "    <tr>\n",
       "      <th>0</th>\n",
       "      <td>Scooby Doo, Where Are You!</td>\n",
       "      <td>CBS</td>\n",
       "      <td>1</td>\n",
       "      <td>What a Night for a Knight</td>\n",
       "      <td>8.1</td>\n",
       "      <td>556.0</td>\n",
       "      <td>1969-09-13</td>\n",
       "      <td>21</td>\n",
       "      <td>TV Series</td>\n",
       "      <td>Black Knight</td>\n",
       "      <td>...</td>\n",
       "      <td>False</td>\n",
       "      <td>False</td>\n",
       "      <td>False</td>\n",
       "      <td>False</td>\n",
       "      <td>False</td>\n",
       "      <td>Frank Welker</td>\n",
       "      <td>Stefanianna Christopherson</td>\n",
       "      <td>Nicole Jaffe</td>\n",
       "      <td>Casey Kasem</td>\n",
       "      <td>Don Messick</td>\n",
       "    </tr>\n",
       "    <tr>\n",
       "      <th>1</th>\n",
       "      <td>Scooby Doo, Where Are You!</td>\n",
       "      <td>CBS</td>\n",
       "      <td>1</td>\n",
       "      <td>A Clue for Scooby Doo</td>\n",
       "      <td>8.1</td>\n",
       "      <td>479.0</td>\n",
       "      <td>1969-09-20</td>\n",
       "      <td>22</td>\n",
       "      <td>TV Series</td>\n",
       "      <td>Ghost of Cptn. Cuttler</td>\n",
       "      <td>...</td>\n",
       "      <td>False</td>\n",
       "      <td>False</td>\n",
       "      <td>False</td>\n",
       "      <td>False</td>\n",
       "      <td>False</td>\n",
       "      <td>Frank Welker</td>\n",
       "      <td>Stefanianna Christopherson</td>\n",
       "      <td>Nicole Jaffe</td>\n",
       "      <td>Casey Kasem</td>\n",
       "      <td>Don Messick</td>\n",
       "    </tr>\n",
       "    <tr>\n",
       "      <th>2</th>\n",
       "      <td>Scooby Doo, Where Are You!</td>\n",
       "      <td>CBS</td>\n",
       "      <td>1</td>\n",
       "      <td>Hassle in the Castle</td>\n",
       "      <td>8.0</td>\n",
       "      <td>455.0</td>\n",
       "      <td>1969-09-27</td>\n",
       "      <td>21</td>\n",
       "      <td>TV Series</td>\n",
       "      <td>Phantom</td>\n",
       "      <td>...</td>\n",
       "      <td>False</td>\n",
       "      <td>False</td>\n",
       "      <td>False</td>\n",
       "      <td>False</td>\n",
       "      <td>False</td>\n",
       "      <td>Frank Welker</td>\n",
       "      <td>Stefanianna Christopherson</td>\n",
       "      <td>Nicole Jaffe</td>\n",
       "      <td>Casey Kasem</td>\n",
       "      <td>Don Messick</td>\n",
       "    </tr>\n",
       "    <tr>\n",
       "      <th>3</th>\n",
       "      <td>Scooby Doo, Where Are You!</td>\n",
       "      <td>CBS</td>\n",
       "      <td>1</td>\n",
       "      <td>Mine Your Own Business</td>\n",
       "      <td>7.8</td>\n",
       "      <td>426.0</td>\n",
       "      <td>1969-10-04</td>\n",
       "      <td>21</td>\n",
       "      <td>TV Series</td>\n",
       "      <td>Miner 49'er</td>\n",
       "      <td>...</td>\n",
       "      <td>False</td>\n",
       "      <td>False</td>\n",
       "      <td>False</td>\n",
       "      <td>False</td>\n",
       "      <td>False</td>\n",
       "      <td>Frank Welker</td>\n",
       "      <td>Stefanianna Christopherson</td>\n",
       "      <td>Nicole Jaffe</td>\n",
       "      <td>Casey Kasem</td>\n",
       "      <td>Don Messick</td>\n",
       "    </tr>\n",
       "    <tr>\n",
       "      <th>4</th>\n",
       "      <td>Scooby Doo, Where Are You!</td>\n",
       "      <td>CBS</td>\n",
       "      <td>1</td>\n",
       "      <td>Decoy for a Dognapper</td>\n",
       "      <td>7.5</td>\n",
       "      <td>391.0</td>\n",
       "      <td>1969-10-11</td>\n",
       "      <td>21</td>\n",
       "      <td>TV Series</td>\n",
       "      <td>Indian Witch Doctor</td>\n",
       "      <td>...</td>\n",
       "      <td>False</td>\n",
       "      <td>False</td>\n",
       "      <td>False</td>\n",
       "      <td>False</td>\n",
       "      <td>False</td>\n",
       "      <td>Frank Welker</td>\n",
       "      <td>Stefanianna Christopherson</td>\n",
       "      <td>Nicole Jaffe</td>\n",
       "      <td>Casey Kasem</td>\n",
       "      <td>Don Messick</td>\n",
       "    </tr>\n",
       "  </tbody>\n",
       "</table>\n",
       "<p>5 rows × 74 columns</p>\n",
       "</div>"
      ],
      "text/plain": [
       "                  series_name network season                      title  imdb  \\\n",
       "0  Scooby Doo, Where Are You!     CBS      1  What a Night for a Knight   8.1   \n",
       "1  Scooby Doo, Where Are You!     CBS      1      A Clue for Scooby Doo   8.1   \n",
       "2  Scooby Doo, Where Are You!     CBS      1       Hassle in the Castle   8.0   \n",
       "3  Scooby Doo, Where Are You!     CBS      1     Mine Your Own Business   7.8   \n",
       "4  Scooby Doo, Where Are You!     CBS      1      Decoy for a Dognapper   7.5   \n",
       "\n",
       "   engagement  date_aired  run_time     format            monster_name  ...  \\\n",
       "0       556.0  1969-09-13        21  TV Series            Black Knight  ...   \n",
       "1       479.0  1969-09-20        22  TV Series  Ghost of Cptn. Cuttler  ...   \n",
       "2       455.0  1969-09-27        21  TV Series                 Phantom  ...   \n",
       "3       426.0  1969-10-04        21  TV Series             Miner 49'er  ...   \n",
       "4       391.0  1969-10-11        21  TV Series     Indian Witch Doctor  ...   \n",
       "\n",
       "  batman scooby_dum scrappy_doo hex_girls blue_falcon       fred_va  \\\n",
       "0  False      False       False     False       False  Frank Welker   \n",
       "1  False      False       False     False       False  Frank Welker   \n",
       "2  False      False       False     False       False  Frank Welker   \n",
       "3  False      False       False     False       False  Frank Welker   \n",
       "4  False      False       False     False       False  Frank Welker   \n",
       "\n",
       "                   daphnie_va      velma_va    shaggy_va    scooby_va  \n",
       "0  Stefanianna Christopherson  Nicole Jaffe  Casey Kasem  Don Messick  \n",
       "1  Stefanianna Christopherson  Nicole Jaffe  Casey Kasem  Don Messick  \n",
       "2  Stefanianna Christopherson  Nicole Jaffe  Casey Kasem  Don Messick  \n",
       "3  Stefanianna Christopherson  Nicole Jaffe  Casey Kasem  Don Messick  \n",
       "4  Stefanianna Christopherson  Nicole Jaffe  Casey Kasem  Don Messick  \n",
       "\n",
       "[5 rows x 74 columns]"
      ]
     },
     "execution_count": 5,
     "metadata": {},
     "output_type": "execute_result"
    }
   ],
   "source": [
    "# load data\n",
    "url = 'https://raw.githubusercontent.com/um-perez-alvaro/Data-Science-Practice/master/Data/scoobydoo.csv'\n",
    "df = pd.read_csv(url,parse_dates=True)\n",
    "df.head()"
   ]
  },
  {
   "cell_type": "markdown",
   "metadata": {},
   "source": [
    "The **goal** is to predict which Scooby Doo monsters are real and which are not (the `monster_real` column), **based on the year each episode was aired and the episode rating** (the imdb column)."
   ]
  },
  {
   "cell_type": "markdown",
   "metadata": {},
   "source": [
    "**Part 1:** Add a `year` column with the year each episode was aired (**ask me if you need help with this**)."
   ]
  },
  {
   "cell_type": "code",
   "execution_count": null,
   "metadata": {},
   "outputs": [],
   "source": [
    "# your code here\n"
   ]
  },
  {
   "cell_type": "markdown",
   "metadata": {},
   "source": [
    "**Part 2:** Drop the rows that have a missing `monster_real`, `year` or `imdb` values (**use pandas `dropna()` method. Ask me if you need help with this)**."
   ]
  },
  {
   "cell_type": "code",
   "execution_count": null,
   "metadata": {},
   "outputs": [],
   "source": [
    "# your code here\n"
   ]
  },
  {
   "cell_type": "code",
   "execution_count": null,
   "metadata": {},
   "outputs": [],
   "source": []
  },
  {
   "cell_type": "markdown",
   "metadata": {},
   "source": [
    "**Part 3:** Define the feature matrix X (`year` and `imdb` columns) and the target vector y (`monster_real` column) from the dataframe"
   ]
  },
  {
   "cell_type": "code",
   "execution_count": null,
   "metadata": {},
   "outputs": [],
   "source": [
    "# your code here\n"
   ]
  },
  {
   "cell_type": "markdown",
   "metadata": {},
   "source": [
    "**Part 4:** Plot the data points (i.e., plot `year` values against `imdb` values). Color each point in the scatter plot according to whether the monster is real or fake."
   ]
  },
  {
   "cell_type": "code",
   "execution_count": null,
   "metadata": {},
   "outputs": [],
   "source": [
    "# your code here\n"
   ]
  },
  {
   "cell_type": "markdown",
   "metadata": {},
   "source": [
    "**Part 5:** Train a classification tree on the data and tune its hyperparameters."
   ]
  },
  {
   "cell_type": "code",
   "execution_count": null,
   "metadata": {},
   "outputs": [],
   "source": [
    "# your code here\n"
   ]
  },
  {
   "cell_type": "code",
   "execution_count": null,
   "metadata": {},
   "outputs": [],
   "source": []
  },
  {
   "cell_type": "markdown",
   "metadata": {},
   "source": [
    "**Part 6**: Use your classification tree to predict the y vector, and compute the confusion matrix."
   ]
  },
  {
   "cell_type": "code",
   "execution_count": null,
   "metadata": {},
   "outputs": [],
   "source": [
    "# your code here\n"
   ]
  },
  {
   "cell_type": "markdown",
   "metadata": {},
   "source": [
    "**Part 7**: Plot the decision tree."
   ]
  },
  {
   "cell_type": "code",
   "execution_count": null,
   "metadata": {},
   "outputs": [],
   "source": []
  },
  {
   "cell_type": "markdown",
   "metadata": {},
   "source": [
    "**Part 8:** Use `DecisionBoundaryDisplay` to visualize the classification tree results"
   ]
  },
  {
   "cell_type": "code",
   "execution_count": null,
   "metadata": {
    "scrolled": true
   },
   "outputs": [],
   "source": [
    "# your code here\n"
   ]
  }
 ],
 "metadata": {
  "kernelspec": {
   "display_name": "Python 3 (ipykernel)",
   "language": "python",
   "name": "python3"
  },
  "language_info": {
   "codemirror_mode": {
    "name": "ipython",
    "version": 3
   },
   "file_extension": ".py",
   "mimetype": "text/x-python",
   "name": "python",
   "nbconvert_exporter": "python",
   "pygments_lexer": "ipython3",
   "version": "3.11.9"
  }
 },
 "nbformat": 4,
 "nbformat_minor": 4
}
